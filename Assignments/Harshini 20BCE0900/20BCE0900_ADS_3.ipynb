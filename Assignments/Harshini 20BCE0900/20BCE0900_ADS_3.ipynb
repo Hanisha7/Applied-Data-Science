{
 "cells": [
  {
   "cell_type": "markdown",
   "id": "97d704c3",
   "metadata": {},
   "source": [
    "## Problem Statement: House Price Prediction\n",
    "Description:- House price prediction is a common problem in the real estate industry and \n",
    "involves predicting the selling price of a house based on various features and attributes. The \n",
    "problem is typically approached as a regression problem, where the target variable is the price \n",
    "of the house, and the features are various attributes of the house \n",
    "The features used in house price prediction can include both quantitative and categorical \n",
    "variables, such as the number of bedrooms, house area, bedrooms, furnished, nearness to \n",
    "main road, and various amenities such as a garage and other factors that may influence the \n",
    "value of the property.\n",
    "Accurate predictions can help agents and appraisers price homes correctly, while \n",
    "homeowners can use the predictions to set a reasonable asking price for their properties. \n",
    "Accurate house price prediction can also be useful for buyers who are looking to make \n",
    "informed decisions about purchasing a property and obtaining a fair price for their \n",
    "investment."
   ]
  },
  {
   "cell_type": "markdown",
   "id": "2772bee1",
   "metadata": {},
   "source": [
    "## Building a Regression Model"
   ]
  },
  {
   "cell_type": "code",
   "execution_count": 1,
   "id": "ba12e1e3",
   "metadata": {},
   "outputs": [],
   "source": [
    "# Import the required Libraries\n",
    "import numpy as np\n",
    "import pandas as pd\n",
    "import matplotlib.pyplot as plt\n",
    "import seaborn as sns"
   ]
  },
  {
   "cell_type": "code",
   "execution_count": 2,
   "id": "fae50a3d",
   "metadata": {},
   "outputs": [],
   "source": [
    "#Load the dataset\n",
    "data=pd.read_csv('Housing.csv')"
   ]
  },
  {
   "cell_type": "code",
   "execution_count": 3,
   "id": "34f75d21",
   "metadata": {},
   "outputs": [
    {
     "data": {
      "text/html": [
       "<div>\n",
       "<style scoped>\n",
       "    .dataframe tbody tr th:only-of-type {\n",
       "        vertical-align: middle;\n",
       "    }\n",
       "\n",
       "    .dataframe tbody tr th {\n",
       "        vertical-align: top;\n",
       "    }\n",
       "\n",
       "    .dataframe thead th {\n",
       "        text-align: right;\n",
       "    }\n",
       "</style>\n",
       "<table border=\"1\" class=\"dataframe\">\n",
       "  <thead>\n",
       "    <tr style=\"text-align: right;\">\n",
       "      <th></th>\n",
       "      <th>price</th>\n",
       "      <th>area</th>\n",
       "      <th>bedrooms</th>\n",
       "      <th>bathrooms</th>\n",
       "      <th>stories</th>\n",
       "      <th>mainroad</th>\n",
       "      <th>guestroom</th>\n",
       "      <th>basement</th>\n",
       "      <th>hotwaterheating</th>\n",
       "      <th>airconditioning</th>\n",
       "      <th>parking</th>\n",
       "      <th>furnishingstatus</th>\n",
       "    </tr>\n",
       "  </thead>\n",
       "  <tbody>\n",
       "    <tr>\n",
       "      <th>0</th>\n",
       "      <td>13300000</td>\n",
       "      <td>7420</td>\n",
       "      <td>4</td>\n",
       "      <td>2</td>\n",
       "      <td>3</td>\n",
       "      <td>yes</td>\n",
       "      <td>no</td>\n",
       "      <td>no</td>\n",
       "      <td>no</td>\n",
       "      <td>yes</td>\n",
       "      <td>2</td>\n",
       "      <td>furnished</td>\n",
       "    </tr>\n",
       "    <tr>\n",
       "      <th>1</th>\n",
       "      <td>12250000</td>\n",
       "      <td>8960</td>\n",
       "      <td>4</td>\n",
       "      <td>4</td>\n",
       "      <td>4</td>\n",
       "      <td>yes</td>\n",
       "      <td>no</td>\n",
       "      <td>no</td>\n",
       "      <td>no</td>\n",
       "      <td>yes</td>\n",
       "      <td>3</td>\n",
       "      <td>furnished</td>\n",
       "    </tr>\n",
       "    <tr>\n",
       "      <th>2</th>\n",
       "      <td>12250000</td>\n",
       "      <td>9960</td>\n",
       "      <td>3</td>\n",
       "      <td>2</td>\n",
       "      <td>2</td>\n",
       "      <td>yes</td>\n",
       "      <td>no</td>\n",
       "      <td>yes</td>\n",
       "      <td>no</td>\n",
       "      <td>no</td>\n",
       "      <td>2</td>\n",
       "      <td>semi-furnished</td>\n",
       "    </tr>\n",
       "    <tr>\n",
       "      <th>3</th>\n",
       "      <td>12215000</td>\n",
       "      <td>7500</td>\n",
       "      <td>4</td>\n",
       "      <td>2</td>\n",
       "      <td>2</td>\n",
       "      <td>yes</td>\n",
       "      <td>no</td>\n",
       "      <td>yes</td>\n",
       "      <td>no</td>\n",
       "      <td>yes</td>\n",
       "      <td>3</td>\n",
       "      <td>furnished</td>\n",
       "    </tr>\n",
       "    <tr>\n",
       "      <th>4</th>\n",
       "      <td>11410000</td>\n",
       "      <td>7420</td>\n",
       "      <td>4</td>\n",
       "      <td>1</td>\n",
       "      <td>2</td>\n",
       "      <td>yes</td>\n",
       "      <td>yes</td>\n",
       "      <td>yes</td>\n",
       "      <td>no</td>\n",
       "      <td>yes</td>\n",
       "      <td>2</td>\n",
       "      <td>furnished</td>\n",
       "    </tr>\n",
       "  </tbody>\n",
       "</table>\n",
       "</div>"
      ],
      "text/plain": [
       "      price  area  bedrooms  bathrooms  stories mainroad guestroom basement  \\\n",
       "0  13300000  7420         4          2        3      yes        no       no   \n",
       "1  12250000  8960         4          4        4      yes        no       no   \n",
       "2  12250000  9960         3          2        2      yes        no      yes   \n",
       "3  12215000  7500         4          2        2      yes        no      yes   \n",
       "4  11410000  7420         4          1        2      yes       yes      yes   \n",
       "\n",
       "  hotwaterheating airconditioning  parking furnishingstatus  \n",
       "0              no             yes        2        furnished  \n",
       "1              no             yes        3        furnished  \n",
       "2              no              no        2   semi-furnished  \n",
       "3              no             yes        3        furnished  \n",
       "4              no             yes        2        furnished  "
      ]
     },
     "execution_count": 3,
     "metadata": {},
     "output_type": "execute_result"
    }
   ],
   "source": [
    "data.head()"
   ]
  },
  {
   "cell_type": "code",
   "execution_count": 4,
   "id": "b07818ac",
   "metadata": {},
   "outputs": [
    {
     "data": {
      "text/html": [
       "<div>\n",
       "<style scoped>\n",
       "    .dataframe tbody tr th:only-of-type {\n",
       "        vertical-align: middle;\n",
       "    }\n",
       "\n",
       "    .dataframe tbody tr th {\n",
       "        vertical-align: top;\n",
       "    }\n",
       "\n",
       "    .dataframe thead th {\n",
       "        text-align: right;\n",
       "    }\n",
       "</style>\n",
       "<table border=\"1\" class=\"dataframe\">\n",
       "  <thead>\n",
       "    <tr style=\"text-align: right;\">\n",
       "      <th></th>\n",
       "      <th>price</th>\n",
       "      <th>area</th>\n",
       "      <th>bedrooms</th>\n",
       "      <th>bathrooms</th>\n",
       "      <th>stories</th>\n",
       "      <th>mainroad</th>\n",
       "      <th>guestroom</th>\n",
       "      <th>basement</th>\n",
       "      <th>hotwaterheating</th>\n",
       "      <th>airconditioning</th>\n",
       "      <th>parking</th>\n",
       "      <th>furnishingstatus</th>\n",
       "    </tr>\n",
       "  </thead>\n",
       "  <tbody>\n",
       "    <tr>\n",
       "      <th>540</th>\n",
       "      <td>1820000</td>\n",
       "      <td>3000</td>\n",
       "      <td>2</td>\n",
       "      <td>1</td>\n",
       "      <td>1</td>\n",
       "      <td>yes</td>\n",
       "      <td>no</td>\n",
       "      <td>yes</td>\n",
       "      <td>no</td>\n",
       "      <td>no</td>\n",
       "      <td>2</td>\n",
       "      <td>unfurnished</td>\n",
       "    </tr>\n",
       "    <tr>\n",
       "      <th>541</th>\n",
       "      <td>1767150</td>\n",
       "      <td>2400</td>\n",
       "      <td>3</td>\n",
       "      <td>1</td>\n",
       "      <td>1</td>\n",
       "      <td>no</td>\n",
       "      <td>no</td>\n",
       "      <td>no</td>\n",
       "      <td>no</td>\n",
       "      <td>no</td>\n",
       "      <td>0</td>\n",
       "      <td>semi-furnished</td>\n",
       "    </tr>\n",
       "    <tr>\n",
       "      <th>542</th>\n",
       "      <td>1750000</td>\n",
       "      <td>3620</td>\n",
       "      <td>2</td>\n",
       "      <td>1</td>\n",
       "      <td>1</td>\n",
       "      <td>yes</td>\n",
       "      <td>no</td>\n",
       "      <td>no</td>\n",
       "      <td>no</td>\n",
       "      <td>no</td>\n",
       "      <td>0</td>\n",
       "      <td>unfurnished</td>\n",
       "    </tr>\n",
       "    <tr>\n",
       "      <th>543</th>\n",
       "      <td>1750000</td>\n",
       "      <td>2910</td>\n",
       "      <td>3</td>\n",
       "      <td>1</td>\n",
       "      <td>1</td>\n",
       "      <td>no</td>\n",
       "      <td>no</td>\n",
       "      <td>no</td>\n",
       "      <td>no</td>\n",
       "      <td>no</td>\n",
       "      <td>0</td>\n",
       "      <td>furnished</td>\n",
       "    </tr>\n",
       "    <tr>\n",
       "      <th>544</th>\n",
       "      <td>1750000</td>\n",
       "      <td>3850</td>\n",
       "      <td>3</td>\n",
       "      <td>1</td>\n",
       "      <td>2</td>\n",
       "      <td>yes</td>\n",
       "      <td>no</td>\n",
       "      <td>no</td>\n",
       "      <td>no</td>\n",
       "      <td>no</td>\n",
       "      <td>0</td>\n",
       "      <td>unfurnished</td>\n",
       "    </tr>\n",
       "  </tbody>\n",
       "</table>\n",
       "</div>"
      ],
      "text/plain": [
       "       price  area  bedrooms  bathrooms  stories mainroad guestroom basement  \\\n",
       "540  1820000  3000         2          1        1      yes        no      yes   \n",
       "541  1767150  2400         3          1        1       no        no       no   \n",
       "542  1750000  3620         2          1        1      yes        no       no   \n",
       "543  1750000  2910         3          1        1       no        no       no   \n",
       "544  1750000  3850         3          1        2      yes        no       no   \n",
       "\n",
       "    hotwaterheating airconditioning  parking furnishingstatus  \n",
       "540              no              no        2      unfurnished  \n",
       "541              no              no        0   semi-furnished  \n",
       "542              no              no        0      unfurnished  \n",
       "543              no              no        0        furnished  \n",
       "544              no              no        0      unfurnished  "
      ]
     },
     "execution_count": 4,
     "metadata": {},
     "output_type": "execute_result"
    }
   ],
   "source": [
    "data.tail()"
   ]
  },
  {
   "cell_type": "code",
   "execution_count": 5,
   "id": "222a7e24",
   "metadata": {},
   "outputs": [
    {
     "name": "stdout",
     "output_type": "stream",
     "text": [
      "<class 'pandas.core.frame.DataFrame'>\n",
      "RangeIndex: 545 entries, 0 to 544\n",
      "Data columns (total 12 columns):\n",
      " #   Column            Non-Null Count  Dtype \n",
      "---  ------            --------------  ----- \n",
      " 0   price             545 non-null    int64 \n",
      " 1   area              545 non-null    int64 \n",
      " 2   bedrooms          545 non-null    int64 \n",
      " 3   bathrooms         545 non-null    int64 \n",
      " 4   stories           545 non-null    int64 \n",
      " 5   mainroad          545 non-null    object\n",
      " 6   guestroom         545 non-null    object\n",
      " 7   basement          545 non-null    object\n",
      " 8   hotwaterheating   545 non-null    object\n",
      " 9   airconditioning   545 non-null    object\n",
      " 10  parking           545 non-null    int64 \n",
      " 11  furnishingstatus  545 non-null    object\n",
      "dtypes: int64(6), object(6)\n",
      "memory usage: 51.2+ KB\n"
     ]
    }
   ],
   "source": [
    "# checking the dataype of the parameters(Columns)\n",
    "data.info()"
   ]
  },
  {
   "cell_type": "code",
   "execution_count": 6,
   "id": "552e3b16",
   "metadata": {},
   "outputs": [
    {
     "data": {
      "text/plain": [
       "Index(['price', 'area', 'bedrooms', 'bathrooms', 'stories', 'mainroad',\n",
       "       'guestroom', 'basement', 'hotwaterheating', 'airconditioning',\n",
       "       'parking', 'furnishingstatus'],\n",
       "      dtype='object')"
      ]
     },
     "execution_count": 6,
     "metadata": {},
     "output_type": "execute_result"
    }
   ],
   "source": [
    "# To know columns\n",
    "data.columns"
   ]
  },
  {
   "cell_type": "markdown",
   "id": "8b70808a",
   "metadata": {},
   "source": [
    "### Perform descriptive statistics on the dataset"
   ]
  },
  {
   "cell_type": "code",
   "execution_count": 7,
   "id": "3079b8a2",
   "metadata": {},
   "outputs": [
    {
     "data": {
      "text/html": [
       "<div>\n",
       "<style scoped>\n",
       "    .dataframe tbody tr th:only-of-type {\n",
       "        vertical-align: middle;\n",
       "    }\n",
       "\n",
       "    .dataframe tbody tr th {\n",
       "        vertical-align: top;\n",
       "    }\n",
       "\n",
       "    .dataframe thead th {\n",
       "        text-align: right;\n",
       "    }\n",
       "</style>\n",
       "<table border=\"1\" class=\"dataframe\">\n",
       "  <thead>\n",
       "    <tr style=\"text-align: right;\">\n",
       "      <th></th>\n",
       "      <th>price</th>\n",
       "      <th>area</th>\n",
       "      <th>bedrooms</th>\n",
       "      <th>bathrooms</th>\n",
       "      <th>stories</th>\n",
       "      <th>parking</th>\n",
       "    </tr>\n",
       "  </thead>\n",
       "  <tbody>\n",
       "    <tr>\n",
       "      <th>count</th>\n",
       "      <td>5.450000e+02</td>\n",
       "      <td>545.000000</td>\n",
       "      <td>545.000000</td>\n",
       "      <td>545.000000</td>\n",
       "      <td>545.000000</td>\n",
       "      <td>545.000000</td>\n",
       "    </tr>\n",
       "    <tr>\n",
       "      <th>mean</th>\n",
       "      <td>4.766729e+06</td>\n",
       "      <td>5150.541284</td>\n",
       "      <td>2.965138</td>\n",
       "      <td>1.286239</td>\n",
       "      <td>1.805505</td>\n",
       "      <td>0.693578</td>\n",
       "    </tr>\n",
       "    <tr>\n",
       "      <th>std</th>\n",
       "      <td>1.870440e+06</td>\n",
       "      <td>2170.141023</td>\n",
       "      <td>0.738064</td>\n",
       "      <td>0.502470</td>\n",
       "      <td>0.867492</td>\n",
       "      <td>0.861586</td>\n",
       "    </tr>\n",
       "    <tr>\n",
       "      <th>min</th>\n",
       "      <td>1.750000e+06</td>\n",
       "      <td>1650.000000</td>\n",
       "      <td>1.000000</td>\n",
       "      <td>1.000000</td>\n",
       "      <td>1.000000</td>\n",
       "      <td>0.000000</td>\n",
       "    </tr>\n",
       "    <tr>\n",
       "      <th>25%</th>\n",
       "      <td>3.430000e+06</td>\n",
       "      <td>3600.000000</td>\n",
       "      <td>2.000000</td>\n",
       "      <td>1.000000</td>\n",
       "      <td>1.000000</td>\n",
       "      <td>0.000000</td>\n",
       "    </tr>\n",
       "    <tr>\n",
       "      <th>50%</th>\n",
       "      <td>4.340000e+06</td>\n",
       "      <td>4600.000000</td>\n",
       "      <td>3.000000</td>\n",
       "      <td>1.000000</td>\n",
       "      <td>2.000000</td>\n",
       "      <td>0.000000</td>\n",
       "    </tr>\n",
       "    <tr>\n",
       "      <th>75%</th>\n",
       "      <td>5.740000e+06</td>\n",
       "      <td>6360.000000</td>\n",
       "      <td>3.000000</td>\n",
       "      <td>2.000000</td>\n",
       "      <td>2.000000</td>\n",
       "      <td>1.000000</td>\n",
       "    </tr>\n",
       "    <tr>\n",
       "      <th>max</th>\n",
       "      <td>1.330000e+07</td>\n",
       "      <td>16200.000000</td>\n",
       "      <td>6.000000</td>\n",
       "      <td>4.000000</td>\n",
       "      <td>4.000000</td>\n",
       "      <td>3.000000</td>\n",
       "    </tr>\n",
       "  </tbody>\n",
       "</table>\n",
       "</div>"
      ],
      "text/plain": [
       "              price          area    bedrooms   bathrooms     stories  \\\n",
       "count  5.450000e+02    545.000000  545.000000  545.000000  545.000000   \n",
       "mean   4.766729e+06   5150.541284    2.965138    1.286239    1.805505   \n",
       "std    1.870440e+06   2170.141023    0.738064    0.502470    0.867492   \n",
       "min    1.750000e+06   1650.000000    1.000000    1.000000    1.000000   \n",
       "25%    3.430000e+06   3600.000000    2.000000    1.000000    1.000000   \n",
       "50%    4.340000e+06   4600.000000    3.000000    1.000000    2.000000   \n",
       "75%    5.740000e+06   6360.000000    3.000000    2.000000    2.000000   \n",
       "max    1.330000e+07  16200.000000    6.000000    4.000000    4.000000   \n",
       "\n",
       "          parking  \n",
       "count  545.000000  \n",
       "mean     0.693578  \n",
       "std      0.861586  \n",
       "min      0.000000  \n",
       "25%      0.000000  \n",
       "50%      0.000000  \n",
       "75%      1.000000  \n",
       "max      3.000000  "
      ]
     },
     "execution_count": 7,
     "metadata": {},
     "output_type": "execute_result"
    }
   ],
   "source": [
    "# Descriptive Analysis\n",
    "data.describe()"
   ]
  },
  {
   "cell_type": "markdown",
   "id": "8123f259",
   "metadata": {},
   "source": [
    "### Perform Below Visualization\n",
    "● Univariate Analysis ● Bi - Variate Analysis ● Multi - Variate Analysis"
   ]
  },
  {
   "cell_type": "code",
   "execution_count": 8,
   "id": "e2c569c3",
   "metadata": {},
   "outputs": [
    {
     "data": {
      "image/png": "[encoded data removed]",
      "text/plain": [
       "<Figure size 1000x600 with 1 Axes>"
      ]
     },
     "metadata": {},
     "output_type": "display_data"
    }
   ],
   "source": [
    "# Univariate Analysis\n",
    "# Example: Histogram of house prices\n",
    "plt.figure(figsize=(10, 6))\n",
    "sns.histplot(data['price'], bins=30, kde=True)\n",
    "plt.title('Distribution of House Prices')\n",
    "plt.xlabel('price')\n",
    "plt.ylabel('count')\n",
    "plt.show()"
   ]
  },
  {
   "cell_type": "code",
   "execution_count": 9,
   "id": "a3111eb1",
   "metadata": {},
   "outputs": [
    {
     "data": {
      "image/png": "[encoded data removed]",
      "text/plain": [
       "<Figure size 1000x600 with 1 Axes>"
      ]
     },
     "metadata": {},
     "output_type": "display_data"
    }
   ],
   "source": [
    "# Bivariate Analysis\n",
    "# Example: Scatter plot of house price vs. number of bedrooms\n",
    "plt.figure(figsize=(10, 6))\n",
    "sns.scatterplot(data=data, x='bedrooms', y='price')\n",
    "plt.title('House Price vs. Number of Bedrooms')\n",
    "plt.xlabel('Number of Bedrooms')\n",
    "plt.ylabel('Price')\n",
    "plt.show()"
   ]
  },
  {
   "cell_type": "code",
   "execution_count": 10,
   "id": "e5f07f7c",
   "metadata": {},
   "outputs": [
    {
     "name": "stderr",
     "output_type": "stream",
     "text": [
      "C:\\Users\\harsh\\AppData\\Local\\Temp\\ipykernel_32784\\3045808490.py:3: FutureWarning: The default value of numeric_only in DataFrame.corr is deprecated. In a future version, it will default to False. Select only valid columns or specify the value of numeric_only to silence this warning.\n",
      "  correlation_matrix = data.corr()\n"
     ]
    },
    {
     "data": {
      "image/png": "[encoded data removed]",
      "text/plain": [
       "<Figure size 1000x800 with 2 Axes>"
      ]
     },
     "metadata": {},
     "output_type": "display_data"
    }
   ],
   "source": [
    "# Multivariate Analysis\n",
    "# Example: Heatmap of correlation matrix\n",
    "correlation_matrix = data.corr()\n",
    "plt.figure(figsize=(10, 8))\n",
    "sns.heatmap(correlation_matrix, annot=True, cmap='coolwarm')\n",
    "plt.title('Correlation Matrix')\n",
    "plt.show()"
   ]
  },
  {
   "cell_type": "markdown",
   "id": "61e92b0e",
   "metadata": {},
   "source": [
    "### Handle the Missing values"
   ]
  },
  {
   "cell_type": "code",
   "execution_count": 11,
   "id": "bfd75c97",
   "metadata": {},
   "outputs": [
    {
     "data": {
      "text/html": [
       "<div>\n",
       "<style scoped>\n",
       "    .dataframe tbody tr th:only-of-type {\n",
       "        vertical-align: middle;\n",
       "    }\n",
       "\n",
       "    .dataframe tbody tr th {\n",
       "        vertical-align: top;\n",
       "    }\n",
       "\n",
       "    .dataframe thead th {\n",
       "        text-align: right;\n",
       "    }\n",
       "</style>\n",
       "<table border=\"1\" class=\"dataframe\">\n",
       "  <thead>\n",
       "    <tr style=\"text-align: right;\">\n",
       "      <th></th>\n",
       "      <th>price</th>\n",
       "      <th>area</th>\n",
       "      <th>bedrooms</th>\n",
       "      <th>bathrooms</th>\n",
       "      <th>stories</th>\n",
       "      <th>mainroad</th>\n",
       "      <th>guestroom</th>\n",
       "      <th>basement</th>\n",
       "      <th>hotwaterheating</th>\n",
       "      <th>airconditioning</th>\n",
       "      <th>parking</th>\n",
       "      <th>furnishingstatus</th>\n",
       "    </tr>\n",
       "  </thead>\n",
       "  <tbody>\n",
       "    <tr>\n",
       "      <th>0</th>\n",
       "      <td>False</td>\n",
       "      <td>False</td>\n",
       "      <td>False</td>\n",
       "      <td>False</td>\n",
       "      <td>False</td>\n",
       "      <td>False</td>\n",
       "      <td>False</td>\n",
       "      <td>False</td>\n",
       "      <td>False</td>\n",
       "      <td>False</td>\n",
       "      <td>False</td>\n",
       "      <td>False</td>\n",
       "    </tr>\n",
       "    <tr>\n",
       "      <th>1</th>\n",
       "      <td>False</td>\n",
       "      <td>False</td>\n",
       "      <td>False</td>\n",
       "      <td>False</td>\n",
       "      <td>False</td>\n",
       "      <td>False</td>\n",
       "      <td>False</td>\n",
       "      <td>False</td>\n",
       "      <td>False</td>\n",
       "      <td>False</td>\n",
       "      <td>False</td>\n",
       "      <td>False</td>\n",
       "    </tr>\n",
       "    <tr>\n",
       "      <th>2</th>\n",
       "      <td>False</td>\n",
       "      <td>False</td>\n",
       "      <td>False</td>\n",
       "      <td>False</td>\n",
       "      <td>False</td>\n",
       "      <td>False</td>\n",
       "      <td>False</td>\n",
       "      <td>False</td>\n",
       "      <td>False</td>\n",
       "      <td>False</td>\n",
       "      <td>False</td>\n",
       "      <td>False</td>\n",
       "    </tr>\n",
       "    <tr>\n",
       "      <th>3</th>\n",
       "      <td>False</td>\n",
       "      <td>False</td>\n",
       "      <td>False</td>\n",
       "      <td>False</td>\n",
       "      <td>False</td>\n",
       "      <td>False</td>\n",
       "      <td>False</td>\n",
       "      <td>False</td>\n",
       "      <td>False</td>\n",
       "      <td>False</td>\n",
       "      <td>False</td>\n",
       "      <td>False</td>\n",
       "    </tr>\n",
       "    <tr>\n",
       "      <th>4</th>\n",
       "      <td>False</td>\n",
       "      <td>False</td>\n",
       "      <td>False</td>\n",
       "      <td>False</td>\n",
       "      <td>False</td>\n",
       "      <td>False</td>\n",
       "      <td>False</td>\n",
       "      <td>False</td>\n",
       "      <td>False</td>\n",
       "      <td>False</td>\n",
       "      <td>False</td>\n",
       "      <td>False</td>\n",
       "    </tr>\n",
       "    <tr>\n",
       "      <th>...</th>\n",
       "      <td>...</td>\n",
       "      <td>...</td>\n",
       "      <td>...</td>\n",
       "      <td>...</td>\n",
       "      <td>...</td>\n",
       "      <td>...</td>\n",
       "      <td>...</td>\n",
       "      <td>...</td>\n",
       "      <td>...</td>\n",
       "      <td>...</td>\n",
       "      <td>...</td>\n",
       "      <td>...</td>\n",
       "    </tr>\n",
       "    <tr>\n",
       "      <th>540</th>\n",
       "      <td>False</td>\n",
       "      <td>False</td>\n",
       "      <td>False</td>\n",
       "      <td>False</td>\n",
       "      <td>False</td>\n",
       "      <td>False</td>\n",
       "      <td>False</td>\n",
       "      <td>False</td>\n",
       "      <td>False</td>\n",
       "      <td>False</td>\n",
       "      <td>False</td>\n",
       "      <td>False</td>\n",
       "    </tr>\n",
       "    <tr>\n",
       "      <th>541</th>\n",
       "      <td>False</td>\n",
       "      <td>False</td>\n",
       "      <td>False</td>\n",
       "      <td>False</td>\n",
       "      <td>False</td>\n",
       "      <td>False</td>\n",
       "      <td>False</td>\n",
       "      <td>False</td>\n",
       "      <td>False</td>\n",
       "      <td>False</td>\n",
       "      <td>False</td>\n",
       "      <td>False</td>\n",
       "    </tr>\n",
       "    <tr>\n",
       "      <th>542</th>\n",
       "      <td>False</td>\n",
       "      <td>False</td>\n",
       "      <td>False</td>\n",
       "      <td>False</td>\n",
       "      <td>False</td>\n",
       "      <td>False</td>\n",
       "      <td>False</td>\n",
       "      <td>False</td>\n",
       "      <td>False</td>\n",
       "      <td>False</td>\n",
       "      <td>False</td>\n",
       "      <td>False</td>\n",
       "    </tr>\n",
       "    <tr>\n",
       "      <th>543</th>\n",
       "      <td>False</td>\n",
       "      <td>False</td>\n",
       "      <td>False</td>\n",
       "      <td>False</td>\n",
       "      <td>False</td>\n",
       "      <td>False</td>\n",
       "      <td>False</td>\n",
       "      <td>False</td>\n",
       "      <td>False</td>\n",
       "      <td>False</td>\n",
       "      <td>False</td>\n",
       "      <td>False</td>\n",
       "    </tr>\n",
       "    <tr>\n",
       "      <th>544</th>\n",
       "      <td>False</td>\n",
       "      <td>False</td>\n",
       "      <td>False</td>\n",
       "      <td>False</td>\n",
       "      <td>False</td>\n",
       "      <td>False</td>\n",
       "      <td>False</td>\n",
       "      <td>False</td>\n",
       "      <td>False</td>\n",
       "      <td>False</td>\n",
       "      <td>False</td>\n",
       "      <td>False</td>\n",
       "    </tr>\n",
       "  </tbody>\n",
       "</table>\n",
       "<p>545 rows × 12 columns</p>\n",
       "</div>"
      ],
      "text/plain": [
       "     price   area  bedrooms  bathrooms  stories  mainroad  guestroom  \\\n",
       "0    False  False     False      False    False     False      False   \n",
       "1    False  False     False      False    False     False      False   \n",
       "2    False  False     False      False    False     False      False   \n",
       "3    False  False     False      False    False     False      False   \n",
       "4    False  False     False      False    False     False      False   \n",
       "..     ...    ...       ...        ...      ...       ...        ...   \n",
       "540  False  False     False      False    False     False      False   \n",
       "541  False  False     False      False    False     False      False   \n",
       "542  False  False     False      False    False     False      False   \n",
       "543  False  False     False      False    False     False      False   \n",
       "544  False  False     False      False    False     False      False   \n",
       "\n",
       "     basement  hotwaterheating  airconditioning  parking  furnishingstatus  \n",
       "0       False            False            False    False             False  \n",
       "1       False            False            False    False             False  \n",
       "2       False            False            False    False             False  \n",
       "3       False            False            False    False             False  \n",
       "4       False            False            False    False             False  \n",
       "..        ...              ...              ...      ...               ...  \n",
       "540     False            False            False    False             False  \n",
       "541     False            False            False    False             False  \n",
       "542     False            False            False    False             False  \n",
       "543     False            False            False    False             False  \n",
       "544     False            False            False    False             False  \n",
       "\n",
       "[545 rows x 12 columns]"
      ]
     },
     "execution_count": 11,
     "metadata": {},
     "output_type": "execute_result"
    }
   ],
   "source": [
    "data.isna()"
   ]
  },
  {
   "cell_type": "code",
   "execution_count": 12,
   "id": "f767f3c1",
   "metadata": {},
   "outputs": [
    {
     "data": {
      "text/plain": [
       "price               False\n",
       "area                False\n",
       "bedrooms            False\n",
       "bathrooms           False\n",
       "stories             False\n",
       "mainroad            False\n",
       "guestroom           False\n",
       "basement            False\n",
       "hotwaterheating     False\n",
       "airconditioning     False\n",
       "parking             False\n",
       "furnishingstatus    False\n",
       "dtype: bool"
      ]
     },
     "execution_count": 12,
     "metadata": {},
     "output_type": "execute_result"
    }
   ],
   "source": [
    "data.isnull().any()"
   ]
  },
  {
   "cell_type": "code",
   "execution_count": 13,
   "id": "490a8c1c",
   "metadata": {},
   "outputs": [
    {
     "data": {
      "text/plain": [
       "price               0\n",
       "area                0\n",
       "bedrooms            0\n",
       "bathrooms           0\n",
       "stories             0\n",
       "mainroad            0\n",
       "guestroom           0\n",
       "basement            0\n",
       "hotwaterheating     0\n",
       "airconditioning     0\n",
       "parking             0\n",
       "furnishingstatus    0\n",
       "dtype: int64"
      ]
     },
     "execution_count": 13,
     "metadata": {},
     "output_type": "execute_result"
    }
   ],
   "source": [
    "#Check for missing values \n",
    "data.isnull().sum()"
   ]
  },
  {
   "cell_type": "code",
   "execution_count": 14,
   "id": "aef2f3b0",
   "metadata": {},
   "outputs": [],
   "source": [
    "# There are no NULL values in the dataset, hence it is clean."
   ]
  },
  {
   "cell_type": "markdown",
   "id": "3625a6ab",
   "metadata": {},
   "source": [
    "### Find the outliers and replace them outliers"
   ]
  },
  {
   "cell_type": "code",
   "execution_count": 15,
   "id": "f7bf2df4",
   "metadata": {},
   "outputs": [
    {
     "data": {
      "image/png": "[encoded data removed]",
      "text/plain": [
       "<Figure size 1000x500 with 6 Axes>"
      ]
     },
     "metadata": {},
     "output_type": "display_data"
    }
   ],
   "source": [
    "# Outlier Analysis\n",
    "fig, axs = plt.subplots(2,3, figsize = (10,5))\n",
    "plt1 = sns.boxplot(data['price'], ax = axs[0,0])\n",
    "plt2 = sns.boxplot(data['area'], ax = axs[0,1])\n",
    "plt3 = sns.boxplot(data['bedrooms'], ax = axs[0,2])\n",
    "plt1 = sns.boxplot(data['bathrooms'], ax = axs[1,0])\n",
    "plt2 = sns.boxplot(data['stories'], ax = axs[1,1])\n",
    "plt3 = sns.boxplot(data['parking'], ax = axs[1,2])\n",
    "\n",
    "plt.tight_layout()"
   ]
  },
  {
   "cell_type": "code",
   "execution_count": 16,
   "id": "f4712357",
   "metadata": {},
   "outputs": [
    {
     "data": {
      "image/png": "[encoded data removed]",
      "text/plain": [
       "<Figure size 640x480 with 1 Axes>"
      ]
     },
     "metadata": {},
     "output_type": "display_data"
    }
   ],
   "source": [
    "# Outlier Treatment\n",
    "# Price and area have considerable outliers.\n",
    "# We can drop the outliers as we have sufficient data.\n",
    "# outlier treatment for price\n",
    "plt.boxplot(data.price)\n",
    "Q1 = data.price.quantile(0.25)\n",
    "Q3 = data.price.quantile(0.75)\n",
    "IQR = Q3 - Q1\n",
    "housing = data[(data.price >= Q1 - 1.5*IQR) & (data.price <= Q3 + 1.5*IQR)]"
   ]
  },
  {
   "cell_type": "code",
   "execution_count": 17,
   "id": "2038b5e3",
   "metadata": {},
   "outputs": [
    {
     "data": {
      "image/png": "[encoded data removed]",
      "text/plain": [
       "<Figure size 640x480 with 1 Axes>"
      ]
     },
     "metadata": {},
     "output_type": "display_data"
    }
   ],
   "source": [
    "# outlier treatment for area\n",
    "plt.boxplot(data.area)\n",
    "Q1 = data.area.quantile(0.25)\n",
    "Q3 = data.area.quantile(0.75)\n",
    "IQR = Q3 - Q1\n",
    "housing = data[(data.area >= Q1 - 1.5*IQR) & (data.area <= Q3 + 1.5*IQR)]"
   ]
  },
  {
   "cell_type": "code",
   "execution_count": 18,
   "id": "a82e15ae",
   "metadata": {},
   "outputs": [
    {
     "data": {
      "image/png": "[encoded data removed]",
      "text/plain": [
       "<Figure size 1000x500 with 6 Axes>"
      ]
     },
     "metadata": {},
     "output_type": "display_data"
    }
   ],
   "source": [
    "# Outlier Analysis\n",
    "fig, axs = plt.subplots(2,3, figsize = (10,5))\n",
    "plt1 = sns.boxplot(data['price'], ax = axs[0,0])\n",
    "plt2 = sns.boxplot(data['area'], ax = axs[0,1])\n",
    "plt3 = sns.boxplot(data['bedrooms'], ax = axs[0,2])\n",
    "plt1 = sns.boxplot(data['bathrooms'], ax = axs[1,0])\n",
    "plt2 = sns.boxplot(data['stories'], ax = axs[1,1])\n",
    "plt3 = sns.boxplot(data['parking'], ax = axs[1,2])\n",
    "\n",
    "plt.tight_layout()"
   ]
  },
  {
   "cell_type": "markdown",
   "id": "5301cd52",
   "metadata": {},
   "source": [
    "### Check for Categorical columns and perform encoding"
   ]
  },
  {
   "cell_type": "code",
   "execution_count": 19,
   "id": "ee6896c6",
   "metadata": {},
   "outputs": [
    {
     "name": "stdout",
     "output_type": "stream",
     "text": [
      "Categorical columns: Index(['mainroad', 'guestroom', 'basement', 'hotwaterheating',\n",
      "       'airconditioning', 'furnishingstatus'],\n",
      "      dtype='object')\n"
     ]
    }
   ],
   "source": [
    "# Check for categorical columns\n",
    "categorical_columns = data.select_dtypes(include=['object']).columns\n",
    "print(\"Categorical columns:\", categorical_columns)"
   ]
  },
  {
   "cell_type": "code",
   "execution_count": 20,
   "id": "04f947ce",
   "metadata": {},
   "outputs": [
    {
     "name": "stdout",
     "output_type": "stream",
     "text": [
      "      price  area  bedrooms  bathrooms  stories  mainroad  guestroom  \\\n",
      "0  13300000  7420         4          2        3         1          0   \n",
      "1  12250000  8960         4          4        4         1          0   \n",
      "2  12250000  9960         3          2        2         1          0   \n",
      "3  12215000  7500         4          2        2         1          0   \n",
      "4  11410000  7420         4          1        2         1          1   \n",
      "\n",
      "   basement  hotwaterheating  airconditioning  parking  furnishingstatus  \n",
      "0         0                0                1        2                 0  \n",
      "1         0                0                1        3                 0  \n",
      "2         1                0                0        2                 1  \n",
      "3         1                0                1        3                 0  \n",
      "4         1                0                1        2                 0  \n"
     ]
    }
   ],
   "source": [
    "import pandas as pd\n",
    "from sklearn.preprocessing import LabelEncoder\n",
    "# Perform label encoding for each categorical column\n",
    "label_encoder = LabelEncoder()\n",
    "for column in categorical_columns:\n",
    "    data[column] = label_encoder.fit_transform(data[column])\n",
    "\n",
    "# Display the updated dataset\n",
    "print(data.head())"
   ]
  },
  {
   "cell_type": "markdown",
   "id": "555aab1f",
   "metadata": {},
   "source": [
    "### Split the data into dependent and independent variables"
   ]
  },
  {
   "cell_type": "code",
   "execution_count": 21,
   "id": "af6a5aa3",
   "metadata": {},
   "outputs": [
    {
     "name": "stdout",
     "output_type": "stream",
     "text": [
      "Independent variables\n",
      "   area  bedrooms  bathrooms  stories  mainroad  guestroom  basement  \\\n",
      "0  7420         4          2        3         1          0         0   \n",
      "1  8960         4          4        4         1          0         0   \n",
      "2  9960         3          2        2         1          0         1   \n",
      "3  7500         4          2        2         1          0         1   \n",
      "4  7420         4          1        2         1          1         1   \n",
      "\n",
      "   hotwaterheating  airconditioning  parking  furnishingstatus  \n",
      "0                0                1        2                 0  \n",
      "1                0                1        3                 0  \n",
      "2                0                0        2                 1  \n",
      "3                0                1        3                 0  \n",
      "4                0                1        2                 0  \n",
      "     area  bedrooms  bathrooms  stories  mainroad  guestroom  basement  \\\n",
      "0    7420         4          2        3         1          0         0   \n",
      "1    8960         4          4        4         1          0         0   \n",
      "2    9960         3          2        2         1          0         1   \n",
      "3    7500         4          2        2         1          0         1   \n",
      "4    7420         4          1        2         1          1         1   \n",
      "..    ...       ...        ...      ...       ...        ...       ...   \n",
      "540  3000         2          1        1         1          0         1   \n",
      "541  2400         3          1        1         0          0         0   \n",
      "542  3620         2          1        1         1          0         0   \n",
      "543  2910         3          1        1         0          0         0   \n",
      "544  3850         3          1        2         1          0         0   \n",
      "\n",
      "     hotwaterheating  airconditioning  parking  furnishingstatus  \n",
      "0                  0                1        2                 0  \n",
      "1                  0                1        3                 0  \n",
      "2                  0                0        2                 1  \n",
      "3                  0                1        3                 0  \n",
      "4                  0                1        2                 0  \n",
      "..               ...              ...      ...               ...  \n",
      "540                0                0        2                 2  \n",
      "541                0                0        0                 1  \n",
      "542                0                0        0                 2  \n",
      "543                0                0        0                 0  \n",
      "544                0                0        0                 2  \n",
      "\n",
      "[545 rows x 11 columns]\n"
     ]
    }
   ],
   "source": [
    "X = data.drop('price', axis=1)  # Independent variables \n",
    "y = data['price']  # Dependent variable \n",
    "\n",
    "# Display the independent variables \n",
    "print(\"Independent variables\")\n",
    "print(X.head())\n",
    "\n",
    "print(X)"
   ]
  },
  {
   "cell_type": "code",
   "execution_count": 22,
   "id": "6a0700f9",
   "metadata": {},
   "outputs": [
    {
     "name": "stdout",
     "output_type": "stream",
     "text": [
      "   area  bedrooms  bathrooms  stories  mainroad  guestroom  basement  \\\n",
      "0  7420         4          2        3         1          0         0   \n",
      "1  8960         4          4        4         1          0         0   \n",
      "2  9960         3          2        2         1          0         1   \n",
      "3  7500         4          2        2         1          0         1   \n",
      "4  7420         4          1        2         1          1         1   \n",
      "\n",
      "   hotwaterheating  airconditioning  parking  furnishingstatus  \n",
      "0                0                1        2                 0  \n",
      "1                0                1        3                 0  \n",
      "2                0                0        2                 1  \n",
      "3                0                1        3                 0  \n",
      "4                0                1        2                 0  \n"
     ]
    }
   ],
   "source": [
    "print(X.head())"
   ]
  },
  {
   "cell_type": "code",
   "execution_count": 23,
   "id": "5a7bc386",
   "metadata": {},
   "outputs": [
    {
     "name": "stdout",
     "output_type": "stream",
     "text": [
      "\n",
      "Dependent variable\n",
      "0    13300000\n",
      "1    12250000\n",
      "2    12250000\n",
      "3    12215000\n",
      "4    11410000\n",
      "Name: price, dtype: int64\n"
     ]
    }
   ],
   "source": [
    "# Display the dependent variable \n",
    "print(\"\\nDependent variable\")\n",
    "print(y.head())"
   ]
  },
  {
   "cell_type": "markdown",
   "id": "129bdc2e",
   "metadata": {},
   "source": [
    "### Scale the independent variables\n"
   ]
  },
  {
   "cell_type": "code",
   "execution_count": 24,
   "id": "f72f54e4",
   "metadata": {},
   "outputs": [
    {
     "data": {
      "text/plain": [
       "Index(['area', 'bedrooms', 'bathrooms', 'stories', 'mainroad', 'guestroom',\n",
       "       'basement', 'hotwaterheating', 'airconditioning', 'parking',\n",
       "       'furnishingstatus'],\n",
       "      dtype='object')"
      ]
     },
     "execution_count": 24,
     "metadata": {},
     "output_type": "execute_result"
    }
   ],
   "source": [
    "name=X.columns\n",
    "name"
   ]
  },
  {
   "cell_type": "code",
   "execution_count": 25,
   "id": "04169e57",
   "metadata": {},
   "outputs": [
    {
     "data": {
      "text/plain": [
       "array([[0.39656357, 0.6       , 0.33333333, ..., 1.        , 0.66666667,\n",
       "        0.        ],\n",
       "       [0.5024055 , 0.6       , 1.        , ..., 1.        , 1.        ,\n",
       "        0.        ],\n",
       "       [0.57113402, 0.4       , 0.33333333, ..., 0.        , 0.66666667,\n",
       "        0.5       ],\n",
       "       ...,\n",
       "       [0.13539519, 0.2       , 0.        , ..., 0.        , 0.        ,\n",
       "        1.        ],\n",
       "       [0.08659794, 0.4       , 0.        , ..., 0.        , 0.        ,\n",
       "        0.        ],\n",
       "       [0.15120275, 0.4       , 0.        , ..., 0.        , 0.        ,\n",
       "        1.        ]])"
      ]
     },
     "execution_count": 25,
     "metadata": {},
     "output_type": "execute_result"
    }
   ],
   "source": [
    "from sklearn.preprocessing import MinMaxScaler\n",
    "scale=MinMaxScaler()\n",
    "X_scaled=scale.fit_transform(X)\n",
    "X_scaled"
   ]
  },
  {
   "cell_type": "code",
   "execution_count": 26,
   "id": "8ad2bec7",
   "metadata": {},
   "outputs": [
    {
     "data": {
      "text/html": [
       "<div>\n",
       "<style scoped>\n",
       "    .dataframe tbody tr th:only-of-type {\n",
       "        vertical-align: middle;\n",
       "    }\n",
       "\n",
       "    .dataframe tbody tr th {\n",
       "        vertical-align: top;\n",
       "    }\n",
       "\n",
       "    .dataframe thead th {\n",
       "        text-align: right;\n",
       "    }\n",
       "</style>\n",
       "<table border=\"1\" class=\"dataframe\">\n",
       "  <thead>\n",
       "    <tr style=\"text-align: right;\">\n",
       "      <th></th>\n",
       "      <th>area</th>\n",
       "      <th>bedrooms</th>\n",
       "      <th>bathrooms</th>\n",
       "      <th>stories</th>\n",
       "      <th>mainroad</th>\n",
       "      <th>guestroom</th>\n",
       "      <th>basement</th>\n",
       "      <th>hotwaterheating</th>\n",
       "      <th>airconditioning</th>\n",
       "      <th>parking</th>\n",
       "      <th>furnishingstatus</th>\n",
       "    </tr>\n",
       "  </thead>\n",
       "  <tbody>\n",
       "    <tr>\n",
       "      <th>0</th>\n",
       "      <td>0.396564</td>\n",
       "      <td>0.6</td>\n",
       "      <td>0.333333</td>\n",
       "      <td>0.666667</td>\n",
       "      <td>1.0</td>\n",
       "      <td>0.0</td>\n",
       "      <td>0.0</td>\n",
       "      <td>0.0</td>\n",
       "      <td>1.0</td>\n",
       "      <td>0.666667</td>\n",
       "      <td>0.0</td>\n",
       "    </tr>\n",
       "    <tr>\n",
       "      <th>1</th>\n",
       "      <td>0.502405</td>\n",
       "      <td>0.6</td>\n",
       "      <td>1.000000</td>\n",
       "      <td>1.000000</td>\n",
       "      <td>1.0</td>\n",
       "      <td>0.0</td>\n",
       "      <td>0.0</td>\n",
       "      <td>0.0</td>\n",
       "      <td>1.0</td>\n",
       "      <td>1.000000</td>\n",
       "      <td>0.0</td>\n",
       "    </tr>\n",
       "    <tr>\n",
       "      <th>2</th>\n",
       "      <td>0.571134</td>\n",
       "      <td>0.4</td>\n",
       "      <td>0.333333</td>\n",
       "      <td>0.333333</td>\n",
       "      <td>1.0</td>\n",
       "      <td>0.0</td>\n",
       "      <td>1.0</td>\n",
       "      <td>0.0</td>\n",
       "      <td>0.0</td>\n",
       "      <td>0.666667</td>\n",
       "      <td>0.5</td>\n",
       "    </tr>\n",
       "    <tr>\n",
       "      <th>3</th>\n",
       "      <td>0.402062</td>\n",
       "      <td>0.6</td>\n",
       "      <td>0.333333</td>\n",
       "      <td>0.333333</td>\n",
       "      <td>1.0</td>\n",
       "      <td>0.0</td>\n",
       "      <td>1.0</td>\n",
       "      <td>0.0</td>\n",
       "      <td>1.0</td>\n",
       "      <td>1.000000</td>\n",
       "      <td>0.0</td>\n",
       "    </tr>\n",
       "    <tr>\n",
       "      <th>4</th>\n",
       "      <td>0.396564</td>\n",
       "      <td>0.6</td>\n",
       "      <td>0.000000</td>\n",
       "      <td>0.333333</td>\n",
       "      <td>1.0</td>\n",
       "      <td>1.0</td>\n",
       "      <td>1.0</td>\n",
       "      <td>0.0</td>\n",
       "      <td>1.0</td>\n",
       "      <td>0.666667</td>\n",
       "      <td>0.0</td>\n",
       "    </tr>\n",
       "    <tr>\n",
       "      <th>...</th>\n",
       "      <td>...</td>\n",
       "      <td>...</td>\n",
       "      <td>...</td>\n",
       "      <td>...</td>\n",
       "      <td>...</td>\n",
       "      <td>...</td>\n",
       "      <td>...</td>\n",
       "      <td>...</td>\n",
       "      <td>...</td>\n",
       "      <td>...</td>\n",
       "      <td>...</td>\n",
       "    </tr>\n",
       "    <tr>\n",
       "      <th>540</th>\n",
       "      <td>0.092784</td>\n",
       "      <td>0.2</td>\n",
       "      <td>0.000000</td>\n",
       "      <td>0.000000</td>\n",
       "      <td>1.0</td>\n",
       "      <td>0.0</td>\n",
       "      <td>1.0</td>\n",
       "      <td>0.0</td>\n",
       "      <td>0.0</td>\n",
       "      <td>0.666667</td>\n",
       "      <td>1.0</td>\n",
       "    </tr>\n",
       "    <tr>\n",
       "      <th>541</th>\n",
       "      <td>0.051546</td>\n",
       "      <td>0.4</td>\n",
       "      <td>0.000000</td>\n",
       "      <td>0.000000</td>\n",
       "      <td>0.0</td>\n",
       "      <td>0.0</td>\n",
       "      <td>0.0</td>\n",
       "      <td>0.0</td>\n",
       "      <td>0.0</td>\n",
       "      <td>0.000000</td>\n",
       "      <td>0.5</td>\n",
       "    </tr>\n",
       "    <tr>\n",
       "      <th>542</th>\n",
       "      <td>0.135395</td>\n",
       "      <td>0.2</td>\n",
       "      <td>0.000000</td>\n",
       "      <td>0.000000</td>\n",
       "      <td>1.0</td>\n",
       "      <td>0.0</td>\n",
       "      <td>0.0</td>\n",
       "      <td>0.0</td>\n",
       "      <td>0.0</td>\n",
       "      <td>0.000000</td>\n",
       "      <td>1.0</td>\n",
       "    </tr>\n",
       "    <tr>\n",
       "      <th>543</th>\n",
       "      <td>0.086598</td>\n",
       "      <td>0.4</td>\n",
       "      <td>0.000000</td>\n",
       "      <td>0.000000</td>\n",
       "      <td>0.0</td>\n",
       "      <td>0.0</td>\n",
       "      <td>0.0</td>\n",
       "      <td>0.0</td>\n",
       "      <td>0.0</td>\n",
       "      <td>0.000000</td>\n",
       "      <td>0.0</td>\n",
       "    </tr>\n",
       "    <tr>\n",
       "      <th>544</th>\n",
       "      <td>0.151203</td>\n",
       "      <td>0.4</td>\n",
       "      <td>0.000000</td>\n",
       "      <td>0.333333</td>\n",
       "      <td>1.0</td>\n",
       "      <td>0.0</td>\n",
       "      <td>0.0</td>\n",
       "      <td>0.0</td>\n",
       "      <td>0.0</td>\n",
       "      <td>0.000000</td>\n",
       "      <td>1.0</td>\n",
       "    </tr>\n",
       "  </tbody>\n",
       "</table>\n",
       "<p>545 rows × 11 columns</p>\n",
       "</div>"
      ],
      "text/plain": [
       "         area  bedrooms  bathrooms   stories  mainroad  guestroom  basement  \\\n",
       "0    0.396564       0.6   0.333333  0.666667       1.0        0.0       0.0   \n",
       "1    0.502405       0.6   1.000000  1.000000       1.0        0.0       0.0   \n",
       "2    0.571134       0.4   0.333333  0.333333       1.0        0.0       1.0   \n",
       "3    0.402062       0.6   0.333333  0.333333       1.0        0.0       1.0   \n",
       "4    0.396564       0.6   0.000000  0.333333       1.0        1.0       1.0   \n",
       "..        ...       ...        ...       ...       ...        ...       ...   \n",
       "540  0.092784       0.2   0.000000  0.000000       1.0        0.0       1.0   \n",
       "541  0.051546       0.4   0.000000  0.000000       0.0        0.0       0.0   \n",
       "542  0.135395       0.2   0.000000  0.000000       1.0        0.0       0.0   \n",
       "543  0.086598       0.4   0.000000  0.000000       0.0        0.0       0.0   \n",
       "544  0.151203       0.4   0.000000  0.333333       1.0        0.0       0.0   \n",
       "\n",
       "     hotwaterheating  airconditioning   parking  furnishingstatus  \n",
       "0                0.0              1.0  0.666667               0.0  \n",
       "1                0.0              1.0  1.000000               0.0  \n",
       "2                0.0              0.0  0.666667               0.5  \n",
       "3                0.0              1.0  1.000000               0.0  \n",
       "4                0.0              1.0  0.666667               0.0  \n",
       "..               ...              ...       ...               ...  \n",
       "540              0.0              0.0  0.666667               1.0  \n",
       "541              0.0              0.0  0.000000               0.5  \n",
       "542              0.0              0.0  0.000000               1.0  \n",
       "543              0.0              0.0  0.000000               0.0  \n",
       "544              0.0              0.0  0.000000               1.0  \n",
       "\n",
       "[545 rows x 11 columns]"
      ]
     },
     "execution_count": 26,
     "metadata": {},
     "output_type": "execute_result"
    }
   ],
   "source": [
    " X=pd.DataFrame(X_scaled,columns=name)\n",
    "X"
   ]
  },
  {
   "cell_type": "markdown",
   "id": "57ca9bb3",
   "metadata": {},
   "source": [
    "### Split the data into training and testing\n"
   ]
  },
  {
   "cell_type": "code",
   "execution_count": 27,
   "id": "c10cc1fb",
   "metadata": {},
   "outputs": [
    {
     "data": {
      "text/html": [
       "<div>\n",
       "<style scoped>\n",
       "    .dataframe tbody tr th:only-of-type {\n",
       "        vertical-align: middle;\n",
       "    }\n",
       "\n",
       "    .dataframe tbody tr th {\n",
       "        vertical-align: top;\n",
       "    }\n",
       "\n",
       "    .dataframe thead th {\n",
       "        text-align: right;\n",
       "    }\n",
       "</style>\n",
       "<table border=\"1\" class=\"dataframe\">\n",
       "  <thead>\n",
       "    <tr style=\"text-align: right;\">\n",
       "      <th></th>\n",
       "      <th>area</th>\n",
       "      <th>bedrooms</th>\n",
       "      <th>bathrooms</th>\n",
       "      <th>stories</th>\n",
       "      <th>mainroad</th>\n",
       "      <th>guestroom</th>\n",
       "      <th>basement</th>\n",
       "      <th>hotwaterheating</th>\n",
       "      <th>airconditioning</th>\n",
       "      <th>parking</th>\n",
       "      <th>furnishingstatus</th>\n",
       "    </tr>\n",
       "  </thead>\n",
       "  <tbody>\n",
       "    <tr>\n",
       "      <th>542</th>\n",
       "      <td>0.135395</td>\n",
       "      <td>0.2</td>\n",
       "      <td>0.0</td>\n",
       "      <td>0.0</td>\n",
       "      <td>1.0</td>\n",
       "      <td>0.0</td>\n",
       "      <td>0.0</td>\n",
       "      <td>0.0</td>\n",
       "      <td>0.0</td>\n",
       "      <td>0.0</td>\n",
       "      <td>1.0</td>\n",
       "    </tr>\n",
       "    <tr>\n",
       "      <th>496</th>\n",
       "      <td>0.161512</td>\n",
       "      <td>0.2</td>\n",
       "      <td>0.0</td>\n",
       "      <td>0.0</td>\n",
       "      <td>1.0</td>\n",
       "      <td>0.0</td>\n",
       "      <td>0.0</td>\n",
       "      <td>0.0</td>\n",
       "      <td>0.0</td>\n",
       "      <td>0.0</td>\n",
       "      <td>1.0</td>\n",
       "    </tr>\n",
       "    <tr>\n",
       "      <th>484</th>\n",
       "      <td>0.095533</td>\n",
       "      <td>0.2</td>\n",
       "      <td>0.0</td>\n",
       "      <td>0.0</td>\n",
       "      <td>0.0</td>\n",
       "      <td>0.0</td>\n",
       "      <td>0.0</td>\n",
       "      <td>0.0</td>\n",
       "      <td>0.0</td>\n",
       "      <td>0.0</td>\n",
       "      <td>1.0</td>\n",
       "    </tr>\n",
       "    <tr>\n",
       "      <th>507</th>\n",
       "      <td>0.134021</td>\n",
       "      <td>0.2</td>\n",
       "      <td>0.0</td>\n",
       "      <td>0.0</td>\n",
       "      <td>1.0</td>\n",
       "      <td>0.0</td>\n",
       "      <td>0.0</td>\n",
       "      <td>0.0</td>\n",
       "      <td>0.0</td>\n",
       "      <td>0.0</td>\n",
       "      <td>1.0</td>\n",
       "    </tr>\n",
       "    <tr>\n",
       "      <th>252</th>\n",
       "      <td>0.564261</td>\n",
       "      <td>0.4</td>\n",
       "      <td>0.0</td>\n",
       "      <td>0.0</td>\n",
       "      <td>1.0</td>\n",
       "      <td>0.0</td>\n",
       "      <td>0.0</td>\n",
       "      <td>0.0</td>\n",
       "      <td>0.0</td>\n",
       "      <td>0.0</td>\n",
       "      <td>0.5</td>\n",
       "    </tr>\n",
       "  </tbody>\n",
       "</table>\n",
       "</div>"
      ],
      "text/plain": [
       "         area  bedrooms  bathrooms  stories  mainroad  guestroom  basement  \\\n",
       "542  0.135395       0.2        0.0      0.0       1.0        0.0       0.0   \n",
       "496  0.161512       0.2        0.0      0.0       1.0        0.0       0.0   \n",
       "484  0.095533       0.2        0.0      0.0       0.0        0.0       0.0   \n",
       "507  0.134021       0.2        0.0      0.0       1.0        0.0       0.0   \n",
       "252  0.564261       0.4        0.0      0.0       1.0        0.0       0.0   \n",
       "\n",
       "     hotwaterheating  airconditioning  parking  furnishingstatus  \n",
       "542              0.0              0.0      0.0               1.0  \n",
       "496              0.0              0.0      0.0               1.0  \n",
       "484              0.0              0.0      0.0               1.0  \n",
       "507              0.0              0.0      0.0               1.0  \n",
       "252              0.0              0.0      0.0               0.5  "
      ]
     },
     "execution_count": 27,
     "metadata": {},
     "output_type": "execute_result"
    }
   ],
   "source": [
    "from sklearn.model_selection import train_test_split\n",
    "X_train,X_test,y_train,y_test=train_test_split(X,y,test_size=0.2,random_state=0)\n",
    "X_train.head()"
   ]
  },
  {
   "cell_type": "code",
   "execution_count": 28,
   "id": "9c909383",
   "metadata": {},
   "outputs": [
    {
     "data": {
      "text/html": [
       "<div>\n",
       "<style scoped>\n",
       "    .dataframe tbody tr th:only-of-type {\n",
       "        vertical-align: middle;\n",
       "    }\n",
       "\n",
       "    .dataframe tbody tr th {\n",
       "        vertical-align: top;\n",
       "    }\n",
       "\n",
       "    .dataframe thead th {\n",
       "        text-align: right;\n",
       "    }\n",
       "</style>\n",
       "<table border=\"1\" class=\"dataframe\">\n",
       "  <thead>\n",
       "    <tr style=\"text-align: right;\">\n",
       "      <th></th>\n",
       "      <th>area</th>\n",
       "      <th>bedrooms</th>\n",
       "      <th>bathrooms</th>\n",
       "      <th>stories</th>\n",
       "      <th>mainroad</th>\n",
       "      <th>guestroom</th>\n",
       "      <th>basement</th>\n",
       "      <th>hotwaterheating</th>\n",
       "      <th>airconditioning</th>\n",
       "      <th>parking</th>\n",
       "      <th>furnishingstatus</th>\n",
       "    </tr>\n",
       "  </thead>\n",
       "  <tbody>\n",
       "    <tr>\n",
       "      <th>239</th>\n",
       "      <td>0.161512</td>\n",
       "      <td>0.4</td>\n",
       "      <td>0.0</td>\n",
       "      <td>0.333333</td>\n",
       "      <td>1.0</td>\n",
       "      <td>0.0</td>\n",
       "      <td>0.0</td>\n",
       "      <td>0.0</td>\n",
       "      <td>0.0</td>\n",
       "      <td>0.333333</td>\n",
       "      <td>0.0</td>\n",
       "    </tr>\n",
       "    <tr>\n",
       "      <th>113</th>\n",
       "      <td>0.547766</td>\n",
       "      <td>0.4</td>\n",
       "      <td>0.0</td>\n",
       "      <td>0.000000</td>\n",
       "      <td>1.0</td>\n",
       "      <td>0.0</td>\n",
       "      <td>1.0</td>\n",
       "      <td>0.0</td>\n",
       "      <td>0.0</td>\n",
       "      <td>0.666667</td>\n",
       "      <td>0.0</td>\n",
       "    </tr>\n",
       "    <tr>\n",
       "      <th>325</th>\n",
       "      <td>0.124399</td>\n",
       "      <td>0.6</td>\n",
       "      <td>0.0</td>\n",
       "      <td>0.333333</td>\n",
       "      <td>1.0</td>\n",
       "      <td>0.0</td>\n",
       "      <td>0.0</td>\n",
       "      <td>0.0</td>\n",
       "      <td>1.0</td>\n",
       "      <td>0.000000</td>\n",
       "      <td>0.5</td>\n",
       "    </tr>\n",
       "    <tr>\n",
       "      <th>66</th>\n",
       "      <td>0.793814</td>\n",
       "      <td>0.2</td>\n",
       "      <td>0.0</td>\n",
       "      <td>0.000000</td>\n",
       "      <td>1.0</td>\n",
       "      <td>0.0</td>\n",
       "      <td>1.0</td>\n",
       "      <td>1.0</td>\n",
       "      <td>0.0</td>\n",
       "      <td>0.333333</td>\n",
       "      <td>0.0</td>\n",
       "    </tr>\n",
       "    <tr>\n",
       "      <th>479</th>\n",
       "      <td>0.138144</td>\n",
       "      <td>0.6</td>\n",
       "      <td>0.0</td>\n",
       "      <td>0.333333</td>\n",
       "      <td>0.0</td>\n",
       "      <td>0.0</td>\n",
       "      <td>0.0</td>\n",
       "      <td>0.0</td>\n",
       "      <td>0.0</td>\n",
       "      <td>0.000000</td>\n",
       "      <td>1.0</td>\n",
       "    </tr>\n",
       "  </tbody>\n",
       "</table>\n",
       "</div>"
      ],
      "text/plain": [
       "         area  bedrooms  bathrooms   stories  mainroad  guestroom  basement  \\\n",
       "239  0.161512       0.4        0.0  0.333333       1.0        0.0       0.0   \n",
       "113  0.547766       0.4        0.0  0.000000       1.0        0.0       1.0   \n",
       "325  0.124399       0.6        0.0  0.333333       1.0        0.0       0.0   \n",
       "66   0.793814       0.2        0.0  0.000000       1.0        0.0       1.0   \n",
       "479  0.138144       0.6        0.0  0.333333       0.0        0.0       0.0   \n",
       "\n",
       "     hotwaterheating  airconditioning   parking  furnishingstatus  \n",
       "239              0.0              0.0  0.333333               0.0  \n",
       "113              0.0              0.0  0.666667               0.0  \n",
       "325              0.0              1.0  0.000000               0.5  \n",
       "66               1.0              0.0  0.333333               0.0  \n",
       "479              0.0              0.0  0.000000               1.0  "
      ]
     },
     "execution_count": 28,
     "metadata": {},
     "output_type": "execute_result"
    }
   ],
   "source": [
    "X_test.head()"
   ]
  },
  {
   "cell_type": "code",
   "execution_count": 29,
   "id": "f432e4db",
   "metadata": {},
   "outputs": [
    {
     "data": {
      "text/plain": [
       "542    1750000\n",
       "496    2695000\n",
       "484    2870000\n",
       "507    2590000\n",
       "252    4515000\n",
       "        ...   \n",
       "70     6790000\n",
       "277    4305000\n",
       "9      9800000\n",
       "359    3710000\n",
       "192    5040000\n",
       "Name: price, Length: 436, dtype: int64"
      ]
     },
     "execution_count": 29,
     "metadata": {},
     "output_type": "execute_result"
    }
   ],
   "source": [
    "y_train"
   ]
  },
  {
   "cell_type": "code",
   "execution_count": 30,
   "id": "3c77ebc0",
   "metadata": {},
   "outputs": [
    {
     "data": {
      "text/plain": [
       "239    4585000\n",
       "113    6083000\n",
       "325    4007500\n",
       "66     6930000\n",
       "479    2940000\n",
       "        ...   \n",
       "76     6650000\n",
       "132    5810000\n",
       "311    4123000\n",
       "464    3080000\n",
       "155    5530000\n",
       "Name: price, Length: 109, dtype: int64"
      ]
     },
     "execution_count": 30,
     "metadata": {},
     "output_type": "execute_result"
    }
   ],
   "source": [
    "y_test"
   ]
  },
  {
   "cell_type": "code",
   "execution_count": 31,
   "id": "2a68157a",
   "metadata": {},
   "outputs": [
    {
     "name": "stdout",
     "output_type": "stream",
     "text": [
      "(436, 11)\n",
      "(109, 11)\n",
      "(436,)\n",
      "(109,)\n"
     ]
    }
   ],
   "source": [
    "print(X_train.shape)\n",
    "print(X_test.shape)\n",
    "print(y_train.shape)\n",
    "print(y_test.shape)"
   ]
  },
  {
   "cell_type": "markdown",
   "id": "d1dc84d3",
   "metadata": {},
   "source": [
    "### Build the Model\n"
   ]
  },
  {
   "cell_type": "markdown",
   "id": "de566420",
   "metadata": {},
   "source": [
    "#### Linear Regression"
   ]
  },
  {
   "cell_type": "code",
   "execution_count": 32,
   "id": "1111c7e1",
   "metadata": {},
   "outputs": [],
   "source": [
    "#Model Building\n",
    "from sklearn.linear_model import LinearRegression\n",
    "lr=LinearRegression()\n"
   ]
  },
  {
   "cell_type": "code",
   "execution_count": 33,
   "id": "ec7681d1",
   "metadata": {},
   "outputs": [
    {
     "data": {
      "text/html": [
       "<style>#sk-container-id-1 {color: black;background-color: white;}#sk-container-id-1 pre{padding: 0;}#sk-container-id-1 div.sk-toggleable {background-color: white;}#sk-container-id-1 label.sk-toggleable__label {cursor: pointer;display: block;width: 100%;margin-bottom: 0;padding: 0.3em;box-sizing: border-box;text-align: center;}#sk-container-id-1 label.sk-toggleable__label-arrow:before {content: \"▸\";float: left;margin-right: 0.25em;color: #696969;}#sk-container-id-1 label.sk-toggleable__label-arrow:hover:before {color: black;}#sk-container-id-1 div.sk-estimator:hover label.sk-toggleable__label-arrow:before {color: black;}#sk-container-id-1 div.sk-toggleable__content {max-height: 0;max-width: 0;overflow: hidden;text-align: left;background-color: #f0f8ff;}#sk-container-id-1 div.sk-toggleable__content pre {margin: 0.2em;color: black;border-radius: 0.25em;background-color: #f0f8ff;}#sk-container-id-1 input.sk-toggleable__control:checked~div.sk-toggleable__content {max-height: 200px;max-width: 100%;overflow: auto;}#sk-container-id-1 input.sk-toggleable__control:checked~label.sk-toggleable__label-arrow:before {content: \"▾\";}#sk-container-id-1 div.sk-estimator input.sk-toggleable__control:checked~label.sk-toggleable__label {background-color: #d4ebff;}#sk-container-id-1 div.sk-label input.sk-toggleable__control:checked~label.sk-toggleable__label {background-color: #d4ebff;}#sk-container-id-1 input.sk-hidden--visually {border: 0;clip: rect(1px 1px 1px 1px);clip: rect(1px, 1px, 1px, 1px);height: 1px;margin: -1px;overflow: hidden;padding: 0;position: absolute;width: 1px;}#sk-container-id-1 div.sk-estimator {font-family: monospace;background-color: #f0f8ff;border: 1px dotted black;border-radius: 0.25em;box-sizing: border-box;margin-bottom: 0.5em;}#sk-container-id-1 div.sk-estimator:hover {background-color: #d4ebff;}#sk-container-id-1 div.sk-parallel-item::after {content: \"\";width: 100%;border-bottom: 1px solid gray;flex-grow: 1;}#sk-container-id-1 div.sk-label:hover label.sk-toggleable__label {background-color: #d4ebff;}#sk-container-id-1 div.sk-serial::before {content: \"\";position: absolute;border-left: 1px solid gray;box-sizing: border-box;top: 0;bottom: 0;left: 50%;z-index: 0;}#sk-container-id-1 div.sk-serial {display: flex;flex-direction: column;align-items: center;background-color: white;padding-right: 0.2em;padding-left: 0.2em;position: relative;}#sk-container-id-1 div.sk-item {position: relative;z-index: 1;}#sk-container-id-1 div.sk-parallel {display: flex;align-items: stretch;justify-content: center;background-color: white;position: relative;}#sk-container-id-1 div.sk-item::before, #sk-container-id-1 div.sk-parallel-item::before {content: \"\";position: absolute;border-left: 1px solid gray;box-sizing: border-box;top: 0;bottom: 0;left: 50%;z-index: -1;}#sk-container-id-1 div.sk-parallel-item {display: flex;flex-direction: column;z-index: 1;position: relative;background-color: white;}#sk-container-id-1 div.sk-parallel-item:first-child::after {align-self: flex-end;width: 50%;}#sk-container-id-1 div.sk-parallel-item:last-child::after {align-self: flex-start;width: 50%;}#sk-container-id-1 div.sk-parallel-item:only-child::after {width: 0;}#sk-container-id-1 div.sk-dashed-wrapped {border: 1px dashed gray;margin: 0 0.4em 0.5em 0.4em;box-sizing: border-box;padding-bottom: 0.4em;background-color: white;}#sk-container-id-1 div.sk-label label {font-family: monospace;font-weight: bold;display: inline-block;line-height: 1.2em;}#sk-container-id-1 div.sk-label-container {text-align: center;}#sk-container-id-1 div.sk-container {/* jupyter's `normalize.less` sets `[hidden] { display: none; }` but bootstrap.min.css set `[hidden] { display: none !important; }` so we also need the `!important` here to be able to override the default hidden behavior on the sphinx rendered scikit-learn.org. See: https://github.com/scikit-learn/scikit-learn/issues/21755 */display: inline-block !important;position: relative;}#sk-container-id-1 div.sk-text-repr-fallback {display: none;}</style><div id=\"sk-container-id-1\" class=\"sk-top-container\"><div class=\"sk-text-repr-fallback\"><pre>LinearRegression()</pre><b>In a Jupyter environment, please rerun this cell to show the HTML representation or trust the notebook. <br />On GitHub, the HTML representation is unable to render, please try loading this page with nbviewer.org.</b></div><div class=\"sk-container\" hidden><div class=\"sk-item\"><div class=\"sk-estimator sk-toggleable\"><input class=\"sk-toggleable__control sk-hidden--visually\" id=\"sk-estimator-id-1\" type=\"checkbox\" checked><label for=\"sk-estimator-id-1\" class=\"sk-toggleable__label sk-toggleable__label-arrow\">LinearRegression</label><div class=\"sk-toggleable__content\"><pre>LinearRegression()</pre></div></div></div></div></div>"
      ],
      "text/plain": [
       "LinearRegression()"
      ]
     },
     "execution_count": 33,
     "metadata": {},
     "output_type": "execute_result"
    }
   ],
   "source": [
    "#train the model\n",
    "lr.fit(X_train,y_train)"
   ]
  },
  {
   "cell_type": "code",
   "execution_count": 34,
   "id": "6bf56aec",
   "metadata": {},
   "outputs": [],
   "source": [
    "#test the model \n",
    "y_pred=lr.predict(X_test)"
   ]
  },
  {
   "cell_type": "code",
   "execution_count": 35,
   "id": "c11c7d55",
   "metadata": {},
   "outputs": [
    {
     "data": {
      "text/plain": [
       "array([ 4130485.81157512,  5951629.29605473,  4493296.54353272,\n",
       "        7780433.96281394,  2889973.78705374,  7363347.86089152,\n",
       "        3305453.71240391,  3183735.32926523,  2870669.15110932,\n",
       "        8667784.23517628,  6855584.77571023,  3912231.71957891,\n",
       "        3950706.37799032,  4967222.32060846,  4227263.05053569,\n",
       "        1957043.8694037 ,  4234806.79975857,  3783048.83430772,\n",
       "        3322342.80946077,  4762611.34903235,  6301684.24187682,\n",
       "        6686567.8521852 ,  4803173.15534444,  2725565.83775742,\n",
       "        4981094.7749616 ,  6002154.03323215,  4931557.20886866,\n",
       "        5653505.15565481,  5918906.1869429 ,  5484328.31840539,\n",
       "        3394692.78101427,  5613665.83642399,  6823856.64204786,\n",
       "        3021889.46603105,  4469536.60652045,  5255330.89824818,\n",
       "        5225810.41766367,  3832135.90379033,  3054328.68223337,\n",
       "        4099284.65283762,  8393400.53933588,  5198130.87753675,\n",
       "        6667121.71334807,  3817227.46104522,  3210941.01557783,\n",
       "        6544628.01013035,  4746442.99347778,  2815091.45849861,\n",
       "        4328200.04403289,  6140495.37001634,  4101365.03050491,\n",
       "        7523609.57308683,  2637361.19283988,  3030373.61210503,\n",
       "        3680051.99140765,  4608501.48083961,  7458731.31602658,\n",
       "        4175267.24822939,  2958773.08420649,  4697735.31934034,\n",
       "        6436789.93194987,  6438416.28929504,  3327607.98967515,\n",
       "        7470597.25281799,  2632200.78994624,  5303330.83400442,\n",
       "        7023393.39561308,  2599735.4178493 ,  4071654.46962766,\n",
       "        5139619.23513587,  3846650.17716924,  7506478.19910546,\n",
       "        4676674.3637098 ,  6006682.25596481,  4362816.99166697,\n",
       "        4102191.07011627,  2952419.92031445,  7922530.89598723,\n",
       "        2633913.99258755,  3073333.92884416,  3846650.17716924,\n",
       "        6304679.35407908,  5391055.31916932,  5689209.05430444,\n",
       "        3957013.15623318,  4223776.97234342,  4704957.14682566,\n",
       "        5354658.37125824,  4134484.29932139,  4542611.58934957,\n",
       "        3387336.01470503,  5567261.9793339 ,  3239927.72347958,\n",
       "        3761587.65749713,  3994543.09009389, 10874286.28393665,\n",
       "        3053124.82456224,  6590657.13873703,  4629566.45189598,\n",
       "        4809999.78220031,  6859163.68501713,  3314917.96930854,\n",
       "        4713044.74556811,  3552126.87296362,  6934615.45180923,\n",
       "        5309926.25800916,  4324358.57639438,  5014271.42734737,\n",
       "        5949073.92608907])"
      ]
     },
     "execution_count": 35,
     "metadata": {},
     "output_type": "execute_result"
    }
   ],
   "source": [
    "y_pred #prediction"
   ]
  },
  {
   "cell_type": "code",
   "execution_count": 36,
   "id": "0495dcc3",
   "metadata": {},
   "outputs": [
    {
     "data": {
      "text/plain": [
       "239    4585000\n",
       "113    6083000\n",
       "325    4007500\n",
       "66     6930000\n",
       "479    2940000\n",
       "        ...   \n",
       "76     6650000\n",
       "132    5810000\n",
       "311    4123000\n",
       "464    3080000\n",
       "155    5530000\n",
       "Name: price, Length: 109, dtype: int64"
      ]
     },
     "execution_count": 36,
     "metadata": {},
     "output_type": "execute_result"
    }
   ],
   "source": [
    "y_test # Actual outcome"
   ]
  },
  {
   "cell_type": "code",
   "execution_count": 37,
   "id": "4c959a9c",
   "metadata": {},
   "outputs": [
    {
     "data": {
      "text/plain": [
       "239    4.545142e+05\n",
       "113    1.313707e+05\n",
       "325   -4.857965e+05\n",
       "66    -8.504340e+05\n",
       "479    5.002621e+04\n",
       "           ...     \n",
       "76    -2.846155e+05\n",
       "132    5.000737e+05\n",
       "311   -2.013586e+05\n",
       "464   -1.934271e+06\n",
       "155   -4.190739e+05\n",
       "Name: price, Length: 109, dtype: float64"
      ]
     },
     "execution_count": 37,
     "metadata": {},
     "output_type": "execute_result"
    }
   ],
   "source": [
    "E=y_test-y_pred\n",
    "E"
   ]
  },
  {
   "cell_type": "code",
   "execution_count": 38,
   "id": "706187b3",
   "metadata": {},
   "outputs": [
    {
     "data": {
      "text/plain": [
       "0.599189239451688"
      ]
     },
     "execution_count": 38,
     "metadata": {},
     "output_type": "execute_result"
    }
   ],
   "source": [
    "from sklearn.metrics import r2_score\n",
    "acc=r2_score(y_pred,y_test)\n",
    "acc"
   ]
  },
  {
   "cell_type": "markdown",
   "id": "79dde862",
   "metadata": {},
   "source": [
    "#### Multi Linear Regression"
   ]
  },
  {
   "cell_type": "code",
   "execution_count": 39,
   "id": "89f058fd",
   "metadata": {},
   "outputs": [
    {
     "data": {
      "text/html": [
       "<style>#sk-container-id-2 {color: black;background-color: white;}#sk-container-id-2 pre{padding: 0;}#sk-container-id-2 div.sk-toggleable {background-color: white;}#sk-container-id-2 label.sk-toggleable__label {cursor: pointer;display: block;width: 100%;margin-bottom: 0;padding: 0.3em;box-sizing: border-box;text-align: center;}#sk-container-id-2 label.sk-toggleable__label-arrow:before {content: \"▸\";float: left;margin-right: 0.25em;color: #696969;}#sk-container-id-2 label.sk-toggleable__label-arrow:hover:before {color: black;}#sk-container-id-2 div.sk-estimator:hover label.sk-toggleable__label-arrow:before {color: black;}#sk-container-id-2 div.sk-toggleable__content {max-height: 0;max-width: 0;overflow: hidden;text-align: left;background-color: #f0f8ff;}#sk-container-id-2 div.sk-toggleable__content pre {margin: 0.2em;color: black;border-radius: 0.25em;background-color: #f0f8ff;}#sk-container-id-2 input.sk-toggleable__control:checked~div.sk-toggleable__content {max-height: 200px;max-width: 100%;overflow: auto;}#sk-container-id-2 input.sk-toggleable__control:checked~label.sk-toggleable__label-arrow:before {content: \"▾\";}#sk-container-id-2 div.sk-estimator input.sk-toggleable__control:checked~label.sk-toggleable__label {background-color: #d4ebff;}#sk-container-id-2 div.sk-label input.sk-toggleable__control:checked~label.sk-toggleable__label {background-color: #d4ebff;}#sk-container-id-2 input.sk-hidden--visually {border: 0;clip: rect(1px 1px 1px 1px);clip: rect(1px, 1px, 1px, 1px);height: 1px;margin: -1px;overflow: hidden;padding: 0;position: absolute;width: 1px;}#sk-container-id-2 div.sk-estimator {font-family: monospace;background-color: #f0f8ff;border: 1px dotted black;border-radius: 0.25em;box-sizing: border-box;margin-bottom: 0.5em;}#sk-container-id-2 div.sk-estimator:hover {background-color: #d4ebff;}#sk-container-id-2 div.sk-parallel-item::after {content: \"\";width: 100%;border-bottom: 1px solid gray;flex-grow: 1;}#sk-container-id-2 div.sk-label:hover label.sk-toggleable__label {background-color: #d4ebff;}#sk-container-id-2 div.sk-serial::before {content: \"\";position: absolute;border-left: 1px solid gray;box-sizing: border-box;top: 0;bottom: 0;left: 50%;z-index: 0;}#sk-container-id-2 div.sk-serial {display: flex;flex-direction: column;align-items: center;background-color: white;padding-right: 0.2em;padding-left: 0.2em;position: relative;}#sk-container-id-2 div.sk-item {position: relative;z-index: 1;}#sk-container-id-2 div.sk-parallel {display: flex;align-items: stretch;justify-content: center;background-color: white;position: relative;}#sk-container-id-2 div.sk-item::before, #sk-container-id-2 div.sk-parallel-item::before {content: \"\";position: absolute;border-left: 1px solid gray;box-sizing: border-box;top: 0;bottom: 0;left: 50%;z-index: -1;}#sk-container-id-2 div.sk-parallel-item {display: flex;flex-direction: column;z-index: 1;position: relative;background-color: white;}#sk-container-id-2 div.sk-parallel-item:first-child::after {align-self: flex-end;width: 50%;}#sk-container-id-2 div.sk-parallel-item:last-child::after {align-self: flex-start;width: 50%;}#sk-container-id-2 div.sk-parallel-item:only-child::after {width: 0;}#sk-container-id-2 div.sk-dashed-wrapped {border: 1px dashed gray;margin: 0 0.4em 0.5em 0.4em;box-sizing: border-box;padding-bottom: 0.4em;background-color: white;}#sk-container-id-2 div.sk-label label {font-family: monospace;font-weight: bold;display: inline-block;line-height: 1.2em;}#sk-container-id-2 div.sk-label-container {text-align: center;}#sk-container-id-2 div.sk-container {/* jupyter's `normalize.less` sets `[hidden] { display: none; }` but bootstrap.min.css set `[hidden] { display: none !important; }` so we also need the `!important` here to be able to override the default hidden behavior on the sphinx rendered scikit-learn.org. See: https://github.com/scikit-learn/scikit-learn/issues/21755 */display: inline-block !important;position: relative;}#sk-container-id-2 div.sk-text-repr-fallback {display: none;}</style><div id=\"sk-container-id-2\" class=\"sk-top-container\"><div class=\"sk-text-repr-fallback\"><pre>LinearRegression()</pre><b>In a Jupyter environment, please rerun this cell to show the HTML representation or trust the notebook. <br />On GitHub, the HTML representation is unable to render, please try loading this page with nbviewer.org.</b></div><div class=\"sk-container\" hidden><div class=\"sk-item\"><div class=\"sk-estimator sk-toggleable\"><input class=\"sk-toggleable__control sk-hidden--visually\" id=\"sk-estimator-id-2\" type=\"checkbox\" checked><label for=\"sk-estimator-id-2\" class=\"sk-toggleable__label sk-toggleable__label-arrow\">LinearRegression</label><div class=\"sk-toggleable__content\"><pre>LinearRegression()</pre></div></div></div></div></div>"
      ],
      "text/plain": [
       "LinearRegression()"
      ]
     },
     "execution_count": 39,
     "metadata": {},
     "output_type": "execute_result"
    }
   ],
   "source": [
    "from sklearn.linear_model import LinearRegression\n",
    "model=LinearRegression()\n",
    "model"
   ]
  },
  {
   "cell_type": "code",
   "execution_count": 40,
   "id": "a59227b1",
   "metadata": {},
   "outputs": [],
   "source": [
    "model.fit(X_train,y_train)\n",
    "pred=model.predict(X_test)"
   ]
  },
  {
   "cell_type": "code",
   "execution_count": 41,
   "id": "d336703b",
   "metadata": {},
   "outputs": [
    {
     "data": {
      "text/plain": [
       "array([ 4130485.81157512,  5951629.29605473,  4493296.54353272,\n",
       "        7780433.96281394,  2889973.78705374,  7363347.86089152,\n",
       "        3305453.71240391,  3183735.32926523,  2870669.15110932,\n",
       "        8667784.23517628,  6855584.77571023,  3912231.71957891,\n",
       "        3950706.37799032,  4967222.32060846,  4227263.05053569,\n",
       "        1957043.8694037 ,  4234806.79975857,  3783048.83430772,\n",
       "        3322342.80946077,  4762611.34903235,  6301684.24187682,\n",
       "        6686567.8521852 ,  4803173.15534444,  2725565.83775742,\n",
       "        4981094.7749616 ,  6002154.03323215,  4931557.20886866,\n",
       "        5653505.15565481,  5918906.1869429 ,  5484328.31840539,\n",
       "        3394692.78101427,  5613665.83642399,  6823856.64204786,\n",
       "        3021889.46603105,  4469536.60652045,  5255330.89824818,\n",
       "        5225810.41766367,  3832135.90379033,  3054328.68223337,\n",
       "        4099284.65283762,  8393400.53933588,  5198130.87753675,\n",
       "        6667121.71334807,  3817227.46104522,  3210941.01557783,\n",
       "        6544628.01013035,  4746442.99347778,  2815091.45849861,\n",
       "        4328200.04403289,  6140495.37001634,  4101365.03050491,\n",
       "        7523609.57308683,  2637361.19283988,  3030373.61210503,\n",
       "        3680051.99140765,  4608501.48083961,  7458731.31602658,\n",
       "        4175267.24822939,  2958773.08420649,  4697735.31934034,\n",
       "        6436789.93194987,  6438416.28929504,  3327607.98967515,\n",
       "        7470597.25281799,  2632200.78994624,  5303330.83400442,\n",
       "        7023393.39561308,  2599735.4178493 ,  4071654.46962766,\n",
       "        5139619.23513587,  3846650.17716924,  7506478.19910546,\n",
       "        4676674.3637098 ,  6006682.25596481,  4362816.99166697,\n",
       "        4102191.07011627,  2952419.92031445,  7922530.89598723,\n",
       "        2633913.99258755,  3073333.92884416,  3846650.17716924,\n",
       "        6304679.35407908,  5391055.31916932,  5689209.05430444,\n",
       "        3957013.15623318,  4223776.97234342,  4704957.14682566,\n",
       "        5354658.37125824,  4134484.29932139,  4542611.58934957,\n",
       "        3387336.01470503,  5567261.9793339 ,  3239927.72347958,\n",
       "        3761587.65749713,  3994543.09009389, 10874286.28393665,\n",
       "        3053124.82456224,  6590657.13873703,  4629566.45189598,\n",
       "        4809999.78220031,  6859163.68501713,  3314917.96930854,\n",
       "        4713044.74556811,  3552126.87296362,  6934615.45180923,\n",
       "        5309926.25800916,  4324358.57639438,  5014271.42734737,\n",
       "        5949073.92608907])"
      ]
     },
     "execution_count": 41,
     "metadata": {},
     "output_type": "execute_result"
    }
   ],
   "source": [
    "pred"
   ]
  },
  {
   "cell_type": "code",
   "execution_count": 42,
   "id": "7e113ff5",
   "metadata": {},
   "outputs": [
    {
     "data": {
      "text/plain": [
       "239    4585000\n",
       "113    6083000\n",
       "325    4007500\n",
       "66     6930000\n",
       "479    2940000\n",
       "        ...   \n",
       "76     6650000\n",
       "132    5810000\n",
       "311    4123000\n",
       "464    3080000\n",
       "155    5530000\n",
       "Name: price, Length: 109, dtype: int64"
      ]
     },
     "execution_count": 42,
     "metadata": {},
     "output_type": "execute_result"
    }
   ],
   "source": [
    "y_test"
   ]
  },
  {
   "cell_type": "code",
   "execution_count": 43,
   "id": "31846aac",
   "metadata": {},
   "outputs": [
    {
     "data": {
      "text/plain": [
       "239   -4.545142e+05\n",
       "113   -1.313707e+05\n",
       "325    4.857965e+05\n",
       "66     8.504340e+05\n",
       "479   -5.002621e+04\n",
       "           ...     \n",
       "76     2.846155e+05\n",
       "132   -5.000737e+05\n",
       "311    2.013586e+05\n",
       "464    1.934271e+06\n",
       "155    4.190739e+05\n",
       "Name: price, Length: 109, dtype: float64"
      ]
     },
     "execution_count": 43,
     "metadata": {},
     "output_type": "execute_result"
    }
   ],
   "source": [
    "E=pred-y_test\n",
    "E"
   ]
  },
  {
   "cell_type": "code",
   "execution_count": 44,
   "id": "11663dc4",
   "metadata": {},
   "outputs": [
    {
     "data": {
      "text/plain": [
       "59.9189239451688"
      ]
     },
     "execution_count": 44,
     "metadata": {},
     "output_type": "execute_result"
    }
   ],
   "source": [
    "from sklearn.metrics import r2_score\n",
    "r2_score(pred,y_test)*100"
   ]
  },
  {
   "cell_type": "markdown",
   "id": "248a5671",
   "metadata": {},
   "source": [
    "#### Logistic Regression"
   ]
  },
  {
   "cell_type": "code",
   "execution_count": 45,
   "id": "3e03a95b",
   "metadata": {},
   "outputs": [],
   "source": [
    "#Model Building\n",
    "from sklearn.linear_model import LogisticRegression\n",
    "lr=LogisticRegression()"
   ]
  },
  {
   "cell_type": "code",
   "execution_count": 46,
   "id": "1d63ae44",
   "metadata": {},
   "outputs": [
    {
     "data": {
      "text/html": [
       "<style>#sk-container-id-3 {color: black;background-color: white;}#sk-container-id-3 pre{padding: 0;}#sk-container-id-3 div.sk-toggleable {background-color: white;}#sk-container-id-3 label.sk-toggleable__label {cursor: pointer;display: block;width: 100%;margin-bottom: 0;padding: 0.3em;box-sizing: border-box;text-align: center;}#sk-container-id-3 label.sk-toggleable__label-arrow:before {content: \"▸\";float: left;margin-right: 0.25em;color: #696969;}#sk-container-id-3 label.sk-toggleable__label-arrow:hover:before {color: black;}#sk-container-id-3 div.sk-estimator:hover label.sk-toggleable__label-arrow:before {color: black;}#sk-container-id-3 div.sk-toggleable__content {max-height: 0;max-width: 0;overflow: hidden;text-align: left;background-color: #f0f8ff;}#sk-container-id-3 div.sk-toggleable__content pre {margin: 0.2em;color: black;border-radius: 0.25em;background-color: #f0f8ff;}#sk-container-id-3 input.sk-toggleable__control:checked~div.sk-toggleable__content {max-height: 200px;max-width: 100%;overflow: auto;}#sk-container-id-3 input.sk-toggleable__control:checked~label.sk-toggleable__label-arrow:before {content: \"▾\";}#sk-container-id-3 div.sk-estimator input.sk-toggleable__control:checked~label.sk-toggleable__label {background-color: #d4ebff;}#sk-container-id-3 div.sk-label input.sk-toggleable__control:checked~label.sk-toggleable__label {background-color: #d4ebff;}#sk-container-id-3 input.sk-hidden--visually {border: 0;clip: rect(1px 1px 1px 1px);clip: rect(1px, 1px, 1px, 1px);height: 1px;margin: -1px;overflow: hidden;padding: 0;position: absolute;width: 1px;}#sk-container-id-3 div.sk-estimator {font-family: monospace;background-color: #f0f8ff;border: 1px dotted black;border-radius: 0.25em;box-sizing: border-box;margin-bottom: 0.5em;}#sk-container-id-3 div.sk-estimator:hover {background-color: #d4ebff;}#sk-container-id-3 div.sk-parallel-item::after {content: \"\";width: 100%;border-bottom: 1px solid gray;flex-grow: 1;}#sk-container-id-3 div.sk-label:hover label.sk-toggleable__label {background-color: #d4ebff;}#sk-container-id-3 div.sk-serial::before {content: \"\";position: absolute;border-left: 1px solid gray;box-sizing: border-box;top: 0;bottom: 0;left: 50%;z-index: 0;}#sk-container-id-3 div.sk-serial {display: flex;flex-direction: column;align-items: center;background-color: white;padding-right: 0.2em;padding-left: 0.2em;position: relative;}#sk-container-id-3 div.sk-item {position: relative;z-index: 1;}#sk-container-id-3 div.sk-parallel {display: flex;align-items: stretch;justify-content: center;background-color: white;position: relative;}#sk-container-id-3 div.sk-item::before, #sk-container-id-3 div.sk-parallel-item::before {content: \"\";position: absolute;border-left: 1px solid gray;box-sizing: border-box;top: 0;bottom: 0;left: 50%;z-index: -1;}#sk-container-id-3 div.sk-parallel-item {display: flex;flex-direction: column;z-index: 1;position: relative;background-color: white;}#sk-container-id-3 div.sk-parallel-item:first-child::after {align-self: flex-end;width: 50%;}#sk-container-id-3 div.sk-parallel-item:last-child::after {align-self: flex-start;width: 50%;}#sk-container-id-3 div.sk-parallel-item:only-child::after {width: 0;}#sk-container-id-3 div.sk-dashed-wrapped {border: 1px dashed gray;margin: 0 0.4em 0.5em 0.4em;box-sizing: border-box;padding-bottom: 0.4em;background-color: white;}#sk-container-id-3 div.sk-label label {font-family: monospace;font-weight: bold;display: inline-block;line-height: 1.2em;}#sk-container-id-3 div.sk-label-container {text-align: center;}#sk-container-id-3 div.sk-container {/* jupyter's `normalize.less` sets `[hidden] { display: none; }` but bootstrap.min.css set `[hidden] { display: none !important; }` so we also need the `!important` here to be able to override the default hidden behavior on the sphinx rendered scikit-learn.org. See: https://github.com/scikit-learn/scikit-learn/issues/21755 */display: inline-block !important;position: relative;}#sk-container-id-3 div.sk-text-repr-fallback {display: none;}</style><div id=\"sk-container-id-3\" class=\"sk-top-container\"><div class=\"sk-text-repr-fallback\"><pre>LogisticRegression()</pre><b>In a Jupyter environment, please rerun this cell to show the HTML representation or trust the notebook. <br />On GitHub, the HTML representation is unable to render, please try loading this page with nbviewer.org.</b></div><div class=\"sk-container\" hidden><div class=\"sk-item\"><div class=\"sk-estimator sk-toggleable\"><input class=\"sk-toggleable__control sk-hidden--visually\" id=\"sk-estimator-id-3\" type=\"checkbox\" checked><label for=\"sk-estimator-id-3\" class=\"sk-toggleable__label sk-toggleable__label-arrow\">LogisticRegression</label><div class=\"sk-toggleable__content\"><pre>LogisticRegression()</pre></div></div></div></div></div>"
      ],
      "text/plain": [
       "LogisticRegression()"
      ]
     },
     "execution_count": 46,
     "metadata": {},
     "output_type": "execute_result"
    }
   ],
   "source": [
    "lr.fit(X_train,y_train)"
   ]
  },
  {
   "cell_type": "code",
   "execution_count": 47,
   "id": "9351c756",
   "metadata": {},
   "outputs": [
    {
     "data": {
      "text/plain": [
       "array([4200000, 3920000, 4200000, 3920000, 4200000, 7350000, 3500000,\n",
       "       4200000, 3500000, 7350000, 4200000, 4200000, 4900000, 4900000,\n",
       "       4900000, 4200000, 4900000, 3500000, 4200000, 4480000, 4900000,\n",
       "       5600000, 4200000, 3500000, 4900000, 5950000, 3640000, 7350000,\n",
       "       4200000, 4900000, 3500000, 4200000, 4900000, 3500000, 4200000,\n",
       "       3500000, 4200000, 4900000, 3500000, 3990000, 7350000, 4200000,\n",
       "       4200000, 4900000, 3500000, 4200000, 4900000, 3500000, 3640000,\n",
       "       5950000, 3500000, 5950000, 4200000, 3500000, 3500000, 3500000,\n",
       "       4200000, 3500000, 3500000, 4900000, 3500000, 4900000, 4200000,\n",
       "       4200000, 3010000, 5040000, 5250000, 4200000, 4900000, 3500000,\n",
       "       4900000, 7350000, 4900000, 4200000, 4900000, 4900000, 4200000,\n",
       "       4200000, 4200000, 3500000, 4900000, 5600000, 4200000, 5250000,\n",
       "       3500000, 4200000, 4200000, 4900000, 4900000, 4900000, 4200000,\n",
       "       5950000, 3500000, 3640000, 4200000, 8400000, 4200000, 4200000,\n",
       "       3500000, 3500000, 3500000, 4200000, 4200000, 4900000, 4200000,\n",
       "       4200000, 3640000, 4200000, 3920000], dtype=int64)"
      ]
     },
     "execution_count": 47,
     "metadata": {},
     "output_type": "execute_result"
    }
   ],
   "source": [
    "pred=lr.predict(X_test)\n",
    "pred"
   ]
  },
  {
   "cell_type": "code",
   "execution_count": 48,
   "id": "06cb0cca",
   "metadata": {},
   "outputs": [
    {
     "data": {
      "text/plain": [
       "array([3500000, 3500000, 4200000, 3500000, 3500000, 4200000, 3500000,\n",
       "       5250000, 3500000, 3640000, 5950000, 4200000, 4200000, 4200000,\n",
       "       4200000, 3500000, 4200000, 5950000, 3500000, 4200000, 3500000,\n",
       "       2450000, 3500000, 8400000, 3500000, 3500000, 3500000, 4900000,\n",
       "       4200000, 4200000, 4200000, 4200000, 3500000, 4900000, 4900000,\n",
       "       7350000, 8400000, 4200000, 5250000, 5250000, 4200000, 3500000,\n",
       "       3500000, 4200000, 5600000, 5950000, 4200000, 8400000, 5950000,\n",
       "       4200000, 3500000, 3500000, 3500000, 3500000, 7350000, 3500000,\n",
       "       3500000, 3500000, 4200000, 4200000, 4200000, 4900000, 4200000,\n",
       "       4200000, 3500000, 7350000, 3500000, 3500000, 4200000, 3640000,\n",
       "       3500000, 6020000, 4480000, 3500000, 3500000, 3500000, 3640000,\n",
       "       3500000, 3500000, 5950000, 3640000, 7350000, 3500000, 4900000,\n",
       "       2940000, 7350000, 5600000, 4900000, 3500000, 7350000, 4200000,\n",
       "       5950000, 4200000, 5950000, 4200000, 3500000, 5250000, 5950000,\n",
       "       3500000, 4900000, 4200000, 3500000, 4200000, 5950000, 5250000,\n",
       "       4900000, 4200000, 3500000, 3500000, 4200000, 3640000, 4900000,\n",
       "       4200000, 5950000, 8400000, 3500000, 5950000, 3500000, 3500000,\n",
       "       5950000, 4200000, 3500000, 4200000, 3500000, 3500000, 3500000,\n",
       "       3640000, 7350000, 3500000, 3500000, 3500000, 4200000, 3500000,\n",
       "       3500000, 4200000, 4200000, 4900000, 4900000, 4200000, 3500000,\n",
       "       5950000, 5250000, 3500000, 4200000, 4200000, 4200000, 3500000,\n",
       "       4200000, 4200000, 2450000, 4200000, 3500000, 4760000, 3500000,\n",
       "       3500000, 4200000, 4200000, 4900000, 4200000, 3500000, 5950000,\n",
       "       4200000, 3500000, 4900000, 4200000, 4200000, 3500000, 3500000,\n",
       "       3500000, 4200000, 3920000, 3500000, 4480000, 4900000, 3500000,\n",
       "       4900000, 4200000, 4200000, 3500000, 4200000, 4200000, 3500000,\n",
       "       3500000, 4200000, 3500000, 4900000, 4200000, 5600000, 6020000,\n",
       "       4200000, 4200000, 3500000, 4200000, 4550000, 3500000, 4200000,\n",
       "       4200000, 3500000, 4200000, 4200000, 5600000, 4200000, 7350000,\n",
       "       4200000, 4200000, 3500000, 4200000, 3500000, 4200000, 4200000,\n",
       "       4480000, 3500000, 4200000, 2450000, 4900000, 3500000, 3500000,\n",
       "       4200000, 4200000, 5950000, 4200000, 3500000, 5950000, 4200000,\n",
       "       3500000, 4900000, 4900000, 3500000, 4900000, 4200000, 5950000,\n",
       "       3500000, 5250000, 3500000, 4200000, 5950000, 3500000, 8400000,\n",
       "       4760000, 3500000, 3500000, 4900000, 3500000, 3500000, 7350000,\n",
       "       4900000, 4200000, 4200000, 4200000, 3500000, 4200000, 4200000,\n",
       "       3640000, 3500000, 3500000, 7350000, 4200000, 5950000, 5950000,\n",
       "       6020000, 4200000, 5950000, 4900000, 3500000, 3920000, 6090000,\n",
       "       4200000, 5950000, 4900000, 4200000, 3500000, 4200000, 3500000,\n",
       "       3500000, 4200000, 4900000, 4200000, 3500000, 4200000, 3990000,\n",
       "       4200000, 3990000, 3500000, 3710000, 4200000, 4200000, 5950000,\n",
       "       4900000, 3500000, 3500000, 4900000, 4200000, 5950000, 4900000,\n",
       "       3640000, 3500000, 4900000, 4200000, 2450000, 4200000, 4200000,\n",
       "       4200000, 3500000, 3500000, 5600000, 3500000, 4200000, 4900000,\n",
       "       3500000, 4200000, 4900000, 7350000, 4200000, 4200000, 4200000,\n",
       "       4200000, 3500000, 3500000, 4200000, 3500000, 4200000, 4760000,\n",
       "       4200000, 5250000, 4200000, 4200000, 4900000, 4900000, 5950000,\n",
       "       4200000, 4200000, 3500000, 4200000, 4200000, 5950000, 3990000,\n",
       "       3500000, 4200000, 3640000, 4200000, 4200000, 3500000, 3920000,\n",
       "       3500000, 4200000, 6020000, 3500000, 4550000, 4200000, 4200000,\n",
       "       4200000, 4200000, 4900000, 4200000, 3500000, 3500000, 4200000,\n",
       "       3640000, 4200000, 3500000, 4900000, 3500000, 3500000, 4900000,\n",
       "       4200000, 4200000, 3920000, 4200000, 4200000, 3500000, 5600000,\n",
       "       4200000, 7350000, 3500000, 4900000, 3990000, 3500000, 4200000,\n",
       "       4200000, 4900000, 3500000, 4900000, 4900000, 3500000, 4200000,\n",
       "       3920000, 5250000, 4200000, 3500000, 4760000, 3500000, 4900000,\n",
       "       7350000, 3920000, 3500000, 4200000, 3500000, 4200000, 8400000,\n",
       "       3500000, 8400000, 4200000, 3500000, 3920000, 4550000, 3500000,\n",
       "       4200000, 3500000, 7350000, 8400000, 3500000, 3500000, 4200000,\n",
       "       4200000, 4900000, 4200000, 4900000, 3500000, 4200000, 4900000,\n",
       "       4900000, 3500000, 4900000, 6020000, 4200000, 4900000, 3640000,\n",
       "       3500000, 3500000, 3500000, 3500000, 4200000, 3500000, 7350000,\n",
       "       3500000, 4900000], dtype=int64)"
      ]
     },
     "execution_count": 48,
     "metadata": {},
     "output_type": "execute_result"
    }
   ],
   "source": [
    "pred1=lr.predict(X_train)\n",
    "pred1"
   ]
  },
  {
   "cell_type": "code",
   "execution_count": 49,
   "id": "8e2692af",
   "metadata": {},
   "outputs": [],
   "source": [
    "from sklearn.metrics import accuracy_score,classification_report,confusion_matrix"
   ]
  },
  {
   "cell_type": "code",
   "execution_count": 50,
   "id": "456f3d3e",
   "metadata": {},
   "outputs": [
    {
     "data": {
      "text/plain": [
       "0.09403669724770643"
      ]
     },
     "execution_count": 50,
     "metadata": {},
     "output_type": "execute_result"
    }
   ],
   "source": [
    "accuracy_score(y_train,pred1)"
   ]
  },
  {
   "cell_type": "code",
   "execution_count": 51,
   "id": "77c36b0e",
   "metadata": {},
   "outputs": [
    {
     "data": {
      "text/plain": [
       "0.03669724770642202"
      ]
     },
     "execution_count": 51,
     "metadata": {},
     "output_type": "execute_result"
    }
   ],
   "source": [
    "accuracy_score(y_test,pred)"
   ]
  },
  {
   "cell_type": "code",
   "execution_count": 52,
   "id": "09bef278",
   "metadata": {},
   "outputs": [
    {
     "data": {
      "text/plain": [
       "array([[0, 0, 0, ..., 0, 0, 0],\n",
       "       [0, 0, 0, ..., 0, 0, 0],\n",
       "       [0, 0, 0, ..., 0, 0, 0],\n",
       "       ...,\n",
       "       [0, 0, 0, ..., 0, 0, 0],\n",
       "       [0, 0, 0, ..., 0, 0, 0],\n",
       "       [0, 0, 0, ..., 0, 0, 0]], dtype=int64)"
      ]
     },
     "execution_count": 52,
     "metadata": {},
     "output_type": "execute_result"
    }
   ],
   "source": [
    "confusion_matrix(y_test,pred)"
   ]
  },
  {
   "cell_type": "code",
   "execution_count": 53,
   "id": "f44b70aa",
   "metadata": {},
   "outputs": [
    {
     "name": "stdout",
     "output_type": "stream",
     "text": [
      "              precision    recall  f1-score   support\n",
      "\n",
      "     1750000       0.00      0.00      0.00         1\n",
      "     1890000       0.00      0.00      0.00         1\n",
      "     1960000       0.00      0.00      0.00         1\n",
      "     2380000       0.00      0.00      0.00         1\n",
      "     2660000       0.00      0.00      0.00         1\n",
      "     2835000       0.00      0.00      0.00         1\n",
      "     2940000       0.00      0.00      0.00         2\n",
      "     3010000       0.00      0.00      0.00         0\n",
      "     3080000       0.00      0.00      0.00         2\n",
      "     3129000       0.00      0.00      0.00         1\n",
      "     3150000       0.00      0.00      0.00         3\n",
      "     3290000       0.00      0.00      0.00         5\n",
      "     3325000       0.00      0.00      0.00         1\n",
      "     3332000       0.00      0.00      0.00         1\n",
      "     3360000       0.00      0.00      0.00         1\n",
      "     3395000       0.00      0.00      0.00         1\n",
      "     3500000       0.08      0.40      0.14         5\n",
      "     3535000       0.00      0.00      0.00         1\n",
      "     3570000       0.00      0.00      0.00         1\n",
      "     3605000       0.00      0.00      0.00         1\n",
      "     3633000       0.00      0.00      0.00         1\n",
      "     3640000       0.00      0.00      0.00         1\n",
      "     3703000       0.00      0.00      0.00         1\n",
      "     3710000       0.00      0.00      0.00         1\n",
      "     3780000       0.00      0.00      0.00         3\n",
      "     3815000       0.00      0.00      0.00         1\n",
      "     3850000       0.00      0.00      0.00         2\n",
      "     3885000       0.00      0.00      0.00         1\n",
      "     3920000       0.00      0.00      0.00         1\n",
      "     3990000       0.00      0.00      0.00         1\n",
      "     4007500       0.00      0.00      0.00         1\n",
      "     4060000       0.00      0.00      0.00         1\n",
      "     4098500       0.00      0.00      0.00         1\n",
      "     4123000       0.00      0.00      0.00         1\n",
      "     4130000       0.00      0.00      0.00         1\n",
      "     4165000       0.00      0.00      0.00         2\n",
      "     4200000       0.03      0.50      0.05         2\n",
      "     4270000       0.00      0.00      0.00         3\n",
      "     4305000       0.00      0.00      0.00         1\n",
      "     4340000       0.00      0.00      0.00         1\n",
      "     4410000       0.00      0.00      0.00         1\n",
      "     4480000       0.00      0.00      0.00         0\n",
      "     4585000       0.00      0.00      0.00         1\n",
      "     4613000       0.00      0.00      0.00         1\n",
      "     4620000       0.00      0.00      0.00         3\n",
      "     4690000       0.00      0.00      0.00         1\n",
      "     4753000       0.00      0.00      0.00         1\n",
      "     4795000       0.00      0.00      0.00         1\n",
      "     4900000       0.04      0.33      0.08         3\n",
      "     4970000       0.00      0.00      0.00         1\n",
      "     5005000       0.00      0.00      0.00         1\n",
      "     5040000       0.00      0.00      0.00         0\n",
      "     5075000       0.00      0.00      0.00         1\n",
      "     5110000       0.00      0.00      0.00         1\n",
      "     5250000       0.00      0.00      0.00         1\n",
      "     5383000       0.00      0.00      0.00         1\n",
      "     5460000       0.00      0.00      0.00         2\n",
      "     5495000       0.00      0.00      0.00         1\n",
      "     5530000       0.00      0.00      0.00         2\n",
      "     5600000       0.00      0.00      0.00         1\n",
      "     5740000       0.00      0.00      0.00         2\n",
      "     5803000       0.00      0.00      0.00         1\n",
      "     5810000       0.00      0.00      0.00         1\n",
      "     5950000       0.00      0.00      0.00         1\n",
      "     6083000       0.00      0.00      0.00         1\n",
      "     6107500       0.00      0.00      0.00         1\n",
      "     6125000       0.00      0.00      0.00         1\n",
      "     6195000       0.00      0.00      0.00         2\n",
      "     6300000       0.00      0.00      0.00         1\n",
      "     6440000       0.00      0.00      0.00         2\n",
      "     6510000       0.00      0.00      0.00         1\n",
      "     6650000       0.00      0.00      0.00         3\n",
      "     6755000       0.00      0.00      0.00         1\n",
      "     6930000       0.00      0.00      0.00         1\n",
      "     7350000       0.00      0.00      0.00         0\n",
      "     7525000       0.00      0.00      0.00         1\n",
      "     7560000       0.00      0.00      0.00         1\n",
      "     7980000       0.00      0.00      0.00         1\n",
      "     8400000       0.00      0.00      0.00         0\n",
      "     8680000       0.00      0.00      0.00         1\n",
      "     8960000       0.00      0.00      0.00         1\n",
      "     9100000       0.00      0.00      0.00         1\n",
      "     9310000       0.00      0.00      0.00         1\n",
      "    12250000       0.00      0.00      0.00         1\n",
      "\n",
      "    accuracy                           0.04       109\n",
      "   macro avg       0.00      0.01      0.00       109\n",
      "weighted avg       0.01      0.04      0.01       109\n",
      "\n"
     ]
    },
    {
     "name": "stderr",
     "output_type": "stream",
     "text": [
      "C:\\Users\\harsh\\AppData\\Roaming\\Python\\Python310\\site-packages\\sklearn\\metrics\\_classification.py:1344: UndefinedMetricWarning: Precision and F-score are ill-defined and being set to 0.0 in labels with no predicted samples. Use `zero_division` parameter to control this behavior.\n",
      "  _warn_prf(average, modifier, msg_start, len(result))\n",
      "C:\\Users\\harsh\\AppData\\Roaming\\Python\\Python310\\site-packages\\sklearn\\metrics\\_classification.py:1344: UndefinedMetricWarning: Recall and F-score are ill-defined and being set to 0.0 in labels with no true samples. Use `zero_division` parameter to control this behavior.\n",
      "  _warn_prf(average, modifier, msg_start, len(result))\n",
      "C:\\Users\\harsh\\AppData\\Roaming\\Python\\Python310\\site-packages\\sklearn\\metrics\\_classification.py:1344: UndefinedMetricWarning: Precision and F-score are ill-defined and being set to 0.0 in labels with no predicted samples. Use `zero_division` parameter to control this behavior.\n",
      "  _warn_prf(average, modifier, msg_start, len(result))\n",
      "C:\\Users\\harsh\\AppData\\Roaming\\Python\\Python310\\site-packages\\sklearn\\metrics\\_classification.py:1344: UndefinedMetricWarning: Recall and F-score are ill-defined and being set to 0.0 in labels with no true samples. Use `zero_division` parameter to control this behavior.\n",
      "  _warn_prf(average, modifier, msg_start, len(result))\n",
      "C:\\Users\\harsh\\AppData\\Roaming\\Python\\Python310\\site-packages\\sklearn\\metrics\\_classification.py:1344: UndefinedMetricWarning: Precision and F-score are ill-defined and being set to 0.0 in labels with no predicted samples. Use `zero_division` parameter to control this behavior.\n",
      "  _warn_prf(average, modifier, msg_start, len(result))\n",
      "C:\\Users\\harsh\\AppData\\Roaming\\Python\\Python310\\site-packages\\sklearn\\metrics\\_classification.py:1344: UndefinedMetricWarning: Recall and F-score are ill-defined and being set to 0.0 in labels with no true samples. Use `zero_division` parameter to control this behavior.\n",
      "  _warn_prf(average, modifier, msg_start, len(result))\n"
     ]
    }
   ],
   "source": [
    "print(classification_report(y_test,pred))"
   ]
  },
  {
   "cell_type": "markdown",
   "id": "ee43a084",
   "metadata": {},
   "source": [
    "#### Ridge and lasso"
   ]
  },
  {
   "cell_type": "code",
   "execution_count": 54,
   "id": "df6a4e97",
   "metadata": {},
   "outputs": [],
   "source": [
    "#importing Ridge and Lasso\n",
    "from sklearn.linear_model import Ridge\n",
    "from sklearn.linear_model import Lasso\n",
    "r=Ridge()\n",
    "l=Lasso()"
   ]
  },
  {
   "cell_type": "code",
   "execution_count": 55,
   "id": "f8e71233",
   "metadata": {},
   "outputs": [
    {
     "data": {
      "text/html": [
       "<style>#sk-container-id-4 {color: black;background-color: white;}#sk-container-id-4 pre{padding: 0;}#sk-container-id-4 div.sk-toggleable {background-color: white;}#sk-container-id-4 label.sk-toggleable__label {cursor: pointer;display: block;width: 100%;margin-bottom: 0;padding: 0.3em;box-sizing: border-box;text-align: center;}#sk-container-id-4 label.sk-toggleable__label-arrow:before {content: \"▸\";float: left;margin-right: 0.25em;color: #696969;}#sk-container-id-4 label.sk-toggleable__label-arrow:hover:before {color: black;}#sk-container-id-4 div.sk-estimator:hover label.sk-toggleable__label-arrow:before {color: black;}#sk-container-id-4 div.sk-toggleable__content {max-height: 0;max-width: 0;overflow: hidden;text-align: left;background-color: #f0f8ff;}#sk-container-id-4 div.sk-toggleable__content pre {margin: 0.2em;color: black;border-radius: 0.25em;background-color: #f0f8ff;}#sk-container-id-4 input.sk-toggleable__control:checked~div.sk-toggleable__content {max-height: 200px;max-width: 100%;overflow: auto;}#sk-container-id-4 input.sk-toggleable__control:checked~label.sk-toggleable__label-arrow:before {content: \"▾\";}#sk-container-id-4 div.sk-estimator input.sk-toggleable__control:checked~label.sk-toggleable__label {background-color: #d4ebff;}#sk-container-id-4 div.sk-label input.sk-toggleable__control:checked~label.sk-toggleable__label {background-color: #d4ebff;}#sk-container-id-4 input.sk-hidden--visually {border: 0;clip: rect(1px 1px 1px 1px);clip: rect(1px, 1px, 1px, 1px);height: 1px;margin: -1px;overflow: hidden;padding: 0;position: absolute;width: 1px;}#sk-container-id-4 div.sk-estimator {font-family: monospace;background-color: #f0f8ff;border: 1px dotted black;border-radius: 0.25em;box-sizing: border-box;margin-bottom: 0.5em;}#sk-container-id-4 div.sk-estimator:hover {background-color: #d4ebff;}#sk-container-id-4 div.sk-parallel-item::after {content: \"\";width: 100%;border-bottom: 1px solid gray;flex-grow: 1;}#sk-container-id-4 div.sk-label:hover label.sk-toggleable__label {background-color: #d4ebff;}#sk-container-id-4 div.sk-serial::before {content: \"\";position: absolute;border-left: 1px solid gray;box-sizing: border-box;top: 0;bottom: 0;left: 50%;z-index: 0;}#sk-container-id-4 div.sk-serial {display: flex;flex-direction: column;align-items: center;background-color: white;padding-right: 0.2em;padding-left: 0.2em;position: relative;}#sk-container-id-4 div.sk-item {position: relative;z-index: 1;}#sk-container-id-4 div.sk-parallel {display: flex;align-items: stretch;justify-content: center;background-color: white;position: relative;}#sk-container-id-4 div.sk-item::before, #sk-container-id-4 div.sk-parallel-item::before {content: \"\";position: absolute;border-left: 1px solid gray;box-sizing: border-box;top: 0;bottom: 0;left: 50%;z-index: -1;}#sk-container-id-4 div.sk-parallel-item {display: flex;flex-direction: column;z-index: 1;position: relative;background-color: white;}#sk-container-id-4 div.sk-parallel-item:first-child::after {align-self: flex-end;width: 50%;}#sk-container-id-4 div.sk-parallel-item:last-child::after {align-self: flex-start;width: 50%;}#sk-container-id-4 div.sk-parallel-item:only-child::after {width: 0;}#sk-container-id-4 div.sk-dashed-wrapped {border: 1px dashed gray;margin: 0 0.4em 0.5em 0.4em;box-sizing: border-box;padding-bottom: 0.4em;background-color: white;}#sk-container-id-4 div.sk-label label {font-family: monospace;font-weight: bold;display: inline-block;line-height: 1.2em;}#sk-container-id-4 div.sk-label-container {text-align: center;}#sk-container-id-4 div.sk-container {/* jupyter's `normalize.less` sets `[hidden] { display: none; }` but bootstrap.min.css set `[hidden] { display: none !important; }` so we also need the `!important` here to be able to override the default hidden behavior on the sphinx rendered scikit-learn.org. See: https://github.com/scikit-learn/scikit-learn/issues/21755 */display: inline-block !important;position: relative;}#sk-container-id-4 div.sk-text-repr-fallback {display: none;}</style><div id=\"sk-container-id-4\" class=\"sk-top-container\"><div class=\"sk-text-repr-fallback\"><pre>Ridge()</pre><b>In a Jupyter environment, please rerun this cell to show the HTML representation or trust the notebook. <br />On GitHub, the HTML representation is unable to render, please try loading this page with nbviewer.org.</b></div><div class=\"sk-container\" hidden><div class=\"sk-item\"><div class=\"sk-estimator sk-toggleable\"><input class=\"sk-toggleable__control sk-hidden--visually\" id=\"sk-estimator-id-4\" type=\"checkbox\" checked><label for=\"sk-estimator-id-4\" class=\"sk-toggleable__label sk-toggleable__label-arrow\">Ridge</label><div class=\"sk-toggleable__content\"><pre>Ridge()</pre></div></div></div></div></div>"
      ],
      "text/plain": [
       "Ridge()"
      ]
     },
     "execution_count": 55,
     "metadata": {},
     "output_type": "execute_result"
    }
   ],
   "source": [
    "r.fit(X_train,y_train)"
   ]
  },
  {
   "cell_type": "code",
   "execution_count": 56,
   "id": "cc8cfff4",
   "metadata": {},
   "outputs": [
    {
     "data": {
      "text/html": [
       "<style>#sk-container-id-5 {color: black;background-color: white;}#sk-container-id-5 pre{padding: 0;}#sk-container-id-5 div.sk-toggleable {background-color: white;}#sk-container-id-5 label.sk-toggleable__label {cursor: pointer;display: block;width: 100%;margin-bottom: 0;padding: 0.3em;box-sizing: border-box;text-align: center;}#sk-container-id-5 label.sk-toggleable__label-arrow:before {content: \"▸\";float: left;margin-right: 0.25em;color: #696969;}#sk-container-id-5 label.sk-toggleable__label-arrow:hover:before {color: black;}#sk-container-id-5 div.sk-estimator:hover label.sk-toggleable__label-arrow:before {color: black;}#sk-container-id-5 div.sk-toggleable__content {max-height: 0;max-width: 0;overflow: hidden;text-align: left;background-color: #f0f8ff;}#sk-container-id-5 div.sk-toggleable__content pre {margin: 0.2em;color: black;border-radius: 0.25em;background-color: #f0f8ff;}#sk-container-id-5 input.sk-toggleable__control:checked~div.sk-toggleable__content {max-height: 200px;max-width: 100%;overflow: auto;}#sk-container-id-5 input.sk-toggleable__control:checked~label.sk-toggleable__label-arrow:before {content: \"▾\";}#sk-container-id-5 div.sk-estimator input.sk-toggleable__control:checked~label.sk-toggleable__label {background-color: #d4ebff;}#sk-container-id-5 div.sk-label input.sk-toggleable__control:checked~label.sk-toggleable__label {background-color: #d4ebff;}#sk-container-id-5 input.sk-hidden--visually {border: 0;clip: rect(1px 1px 1px 1px);clip: rect(1px, 1px, 1px, 1px);height: 1px;margin: -1px;overflow: hidden;padding: 0;position: absolute;width: 1px;}#sk-container-id-5 div.sk-estimator {font-family: monospace;background-color: #f0f8ff;border: 1px dotted black;border-radius: 0.25em;box-sizing: border-box;margin-bottom: 0.5em;}#sk-container-id-5 div.sk-estimator:hover {background-color: #d4ebff;}#sk-container-id-5 div.sk-parallel-item::after {content: \"\";width: 100%;border-bottom: 1px solid gray;flex-grow: 1;}#sk-container-id-5 div.sk-label:hover label.sk-toggleable__label {background-color: #d4ebff;}#sk-container-id-5 div.sk-serial::before {content: \"\";position: absolute;border-left: 1px solid gray;box-sizing: border-box;top: 0;bottom: 0;left: 50%;z-index: 0;}#sk-container-id-5 div.sk-serial {display: flex;flex-direction: column;align-items: center;background-color: white;padding-right: 0.2em;padding-left: 0.2em;position: relative;}#sk-container-id-5 div.sk-item {position: relative;z-index: 1;}#sk-container-id-5 div.sk-parallel {display: flex;align-items: stretch;justify-content: center;background-color: white;position: relative;}#sk-container-id-5 div.sk-item::before, #sk-container-id-5 div.sk-parallel-item::before {content: \"\";position: absolute;border-left: 1px solid gray;box-sizing: border-box;top: 0;bottom: 0;left: 50%;z-index: -1;}#sk-container-id-5 div.sk-parallel-item {display: flex;flex-direction: column;z-index: 1;position: relative;background-color: white;}#sk-container-id-5 div.sk-parallel-item:first-child::after {align-self: flex-end;width: 50%;}#sk-container-id-5 div.sk-parallel-item:last-child::after {align-self: flex-start;width: 50%;}#sk-container-id-5 div.sk-parallel-item:only-child::after {width: 0;}#sk-container-id-5 div.sk-dashed-wrapped {border: 1px dashed gray;margin: 0 0.4em 0.5em 0.4em;box-sizing: border-box;padding-bottom: 0.4em;background-color: white;}#sk-container-id-5 div.sk-label label {font-family: monospace;font-weight: bold;display: inline-block;line-height: 1.2em;}#sk-container-id-5 div.sk-label-container {text-align: center;}#sk-container-id-5 div.sk-container {/* jupyter's `normalize.less` sets `[hidden] { display: none; }` but bootstrap.min.css set `[hidden] { display: none !important; }` so we also need the `!important` here to be able to override the default hidden behavior on the sphinx rendered scikit-learn.org. See: https://github.com/scikit-learn/scikit-learn/issues/21755 */display: inline-block !important;position: relative;}#sk-container-id-5 div.sk-text-repr-fallback {display: none;}</style><div id=\"sk-container-id-5\" class=\"sk-top-container\"><div class=\"sk-text-repr-fallback\"><pre>Lasso()</pre><b>In a Jupyter environment, please rerun this cell to show the HTML representation or trust the notebook. <br />On GitHub, the HTML representation is unable to render, please try loading this page with nbviewer.org.</b></div><div class=\"sk-container\" hidden><div class=\"sk-item\"><div class=\"sk-estimator sk-toggleable\"><input class=\"sk-toggleable__control sk-hidden--visually\" id=\"sk-estimator-id-5\" type=\"checkbox\" checked><label for=\"sk-estimator-id-5\" class=\"sk-toggleable__label sk-toggleable__label-arrow\">Lasso</label><div class=\"sk-toggleable__content\"><pre>Lasso()</pre></div></div></div></div></div>"
      ],
      "text/plain": [
       "Lasso()"
      ]
     },
     "execution_count": 56,
     "metadata": {},
     "output_type": "execute_result"
    }
   ],
   "source": [
    "l.fit(X_train,y_train)"
   ]
  },
  {
   "cell_type": "code",
   "execution_count": 57,
   "id": "53c433e6",
   "metadata": {},
   "outputs": [],
   "source": [
    "pred1=r.predict(X_test)\n",
    "pred2=l.predict(X_test)"
   ]
  },
  {
   "cell_type": "code",
   "execution_count": 58,
   "id": "ebb2f943",
   "metadata": {},
   "outputs": [
    {
     "data": {
      "text/plain": [
       "array([ 4195856.90517042,  5864718.11425884,  4580911.45240111,\n",
       "        7482233.19909076,  2918193.45985188,  7297630.47723542,\n",
       "        3391281.86952099,  3232282.50450392,  2932450.53111364,\n",
       "        8551010.88296727,  6777348.64336336,  3956839.32669081,\n",
       "        4001622.35779294,  4967797.82176844,  4203858.69210574,\n",
       "        2015230.74561516,  4228204.18036041,  3762806.5411674 ,\n",
       "        3356427.68756846,  4846509.22503371,  6159037.42084511,\n",
       "        6525720.85652918,  4830477.02921605,  2829759.7751942 ,\n",
       "        4930259.68586438,  6040141.78315633,  4920669.5181914 ,\n",
       "        5702754.66660397,  5828259.5464341 ,  5472926.43591663,\n",
       "        3434189.54544098,  5655506.42426936,  6801201.67673475,\n",
       "        3067288.5560321 ,  4437322.17684532,  5295773.420763  ,\n",
       "        5254145.87718538,  3895897.08825461,  3094034.6505699 ,\n",
       "        4198073.45106151,  8279611.36350634,  5101498.14260867,\n",
       "        6582561.63806065,  3803758.94656163,  3307008.10394695,\n",
       "        6463463.20959435,  4815666.91312414,  2838485.97944024,\n",
       "        4382628.46251245,  6216481.58382474,  4135405.9723944 ,\n",
       "        7364095.35021837,  2711167.89671806,  3064930.6928924 ,\n",
       "        3680890.63873306,  4595669.09491283,  7313023.03819999,\n",
       "        4228042.95881949,  3001086.93109389,  4633237.8029128 ,\n",
       "        6252357.9914652 ,  6352057.50388237,  3317506.23987718,\n",
       "        7412371.16892936,  2703882.03109191,  5333928.84565158,\n",
       "        6970592.05551416,  2605963.91978733,  4099592.7194416 ,\n",
       "        5174930.33342789,  3943323.89362373,  7479537.70161743,\n",
       "        4752768.8028294 ,  5910456.57548701,  4412004.1562072 ,\n",
       "        4179612.86326061,  3000615.44438921,  7746644.6353591 ,\n",
       "        2687742.71310636,  3103236.94997151,  3943323.89362373,\n",
       "        6183858.66441992,  5348503.62654268,  5655010.10319667,\n",
       "        3989025.38033988,  4315657.30307195,  4704848.39784792,\n",
       "        5365735.9670775 ,  4199975.81605375,  4643517.53385292,\n",
       "        3290573.73130225,  5477583.00840668,  3286267.90540068,\n",
       "        3712816.75660026,  4024436.25718559, 10634541.90339162,\n",
       "        3116375.14320605,  6531294.64768271,  4569769.42690396,\n",
       "        4730655.70663621,  6657012.45823677,  3375994.50036783,\n",
       "        4733468.11505622,  3611737.6141366 ,  6845686.70183488,\n",
       "        5326691.44897898,  4308102.40137323,  4980653.44881749,\n",
       "        5898269.67099591])"
      ]
     },
     "execution_count": 58,
     "metadata": {},
     "output_type": "execute_result"
    }
   ],
   "source": [
    "pred1"
   ]
  },
  {
   "cell_type": "code",
   "execution_count": 59,
   "id": "3ac578b1",
   "metadata": {},
   "outputs": [
    {
     "data": {
      "text/plain": [
       "array([ 4130491.26557231,  5951620.16171854,  4493297.38960569,\n",
       "        7780395.82643018,  2889978.62456049,  7363338.67081457,\n",
       "        3305460.82293172,  3183746.37360477,  2870681.89129402,\n",
       "        8667766.08269889,  6855573.37203069,  3912236.64803012,\n",
       "        3950711.47158217,  4967218.88928105,  4227261.95863451,\n",
       "        1957057.27144086,  4234813.71519698,  3783049.03535959,\n",
       "        3322352.79140751,  4762621.51753583,  6301669.87409393,\n",
       "        6686533.06047773,  4803175.60015067,  2725576.92993418,\n",
       "        4981092.68750015,  6002151.59408407,  4931554.85016006,\n",
       "        5653504.6664762 ,  5918899.58075068,  5484325.68157407,\n",
       "        3394703.0392631 ,  5613650.01890191,  6823848.93542851,\n",
       "        3021900.89728433,  4469521.62004814,  5255337.16267895,\n",
       "        5225805.02267671,  3832142.02370341,  3054345.8067584 ,\n",
       "        4099295.14949939,  8393389.04282679,  5198123.37116944,\n",
       "        6667116.22192581,  3817227.86442327,  3210948.94418778,\n",
       "        6544621.84121476,  4746444.64742474,  2815102.26504443,\n",
       "        4328204.28482627,  6140493.89455915,  4101368.6826624 ,\n",
       "        7523586.55399744,  2637375.04994117,  3030384.60911664,\n",
       "        3680053.44478333,  4608507.83774047,  7458719.28872701,\n",
       "        4175265.97974433,  2958784.7009773 ,  4697731.89290279,\n",
       "        6436774.04609234,  6438400.24870402,  3327615.98834313,\n",
       "        7470591.32919342,  2632219.15144063,  5303328.53645785,\n",
       "        7023382.83843998,  2599749.95255098,  4071656.77854491,\n",
       "        5139619.80547442,  3846658.2253529 ,  7506471.92260321,\n",
       "        4676678.71776223,  6006650.35014817,  4362824.81067931,\n",
       "        4102201.14505209,  2952419.93634013,  7922502.71616398,\n",
       "        2633925.64358464,  3073344.55400025,  3846658.2253529 ,\n",
       "        6304647.25355073,  5391046.33271247,  5689205.88367229,\n",
       "        3957011.36220214,  4223779.07564463,  4704944.81682699,\n",
       "        5354661.09548358,  4134489.85607307,  4542614.6088763 ,\n",
       "        3387337.03643246,  5567253.75729306,  3239938.96053771,\n",
       "        3761596.99498738,  3994540.34597548, 10874256.7836886 ,\n",
       "        3053137.13680356,  6590644.91347398,  4629568.07523963,\n",
       "        4809999.84375078,  6859141.8535567 ,  3314923.59719818,\n",
       "        4713041.12965977,  3552133.36267323,  6934607.96114698,\n",
       "        5309928.10814279,  4324363.33972281,  5014256.41998897,\n",
       "        5949067.48214258])"
      ]
     },
     "execution_count": 59,
     "metadata": {},
     "output_type": "execute_result"
    }
   ],
   "source": [
    "pred2"
   ]
  },
  {
   "cell_type": "code",
   "execution_count": 60,
   "id": "735842b6",
   "metadata": {},
   "outputs": [
    {
     "name": "stdout",
     "output_type": "stream",
     "text": [
      "992405739929.5162\n",
      "1027863463042.204\n"
     ]
    }
   ],
   "source": [
    "from sklearn import metrics\n",
    "#MSE (Mean Square Error)\n",
    "print(metrics.mean_squared_error(y_test,pred1))\n",
    "print(metrics.mean_squared_error(y_test,pred2))"
   ]
  },
  {
   "cell_type": "code",
   "execution_count": 61,
   "id": "abbcfbde",
   "metadata": {},
   "outputs": [
    {
     "name": "stdout",
     "output_type": "stream",
     "text": [
      "996195.633362\n",
      "1013836.0138810438\n"
     ]
    }
   ],
   "source": [
    "#RMSE(Root Mean Square Error)\n",
    "print(np.sqrt(metrics.mean_squared_error(y_test,pred1)))\n",
    "print(np.sqrt(metrics.mean_squared_error(y_test,pred2)))"
   ]
  },
  {
   "cell_type": "code",
   "execution_count": 62,
   "id": "30962cf8",
   "metadata": {},
   "outputs": [
    {
     "name": "stdout",
     "output_type": "stream",
     "text": [
      "0.6555962234628716\n",
      "0.6432910006532124\n"
     ]
    }
   ],
   "source": [
    "# R Squared\n",
    "print(metrics.r2_score(y_test,pred1))\n",
    "print(metrics.r2_score(y_test,pred2))"
   ]
  },
  {
   "cell_type": "markdown",
   "id": "ccbfd6b3",
   "metadata": {},
   "source": [
    "#### Hence Comparing all Regression Model above As r2 Score is higher for Ridge regression we will use Ridge Regression ML Model for Deployment."
   ]
  },
  {
   "cell_type": "code",
   "execution_count": null,
   "id": "9e7378e9",
   "metadata": {},
   "outputs": [],
   "source": []
  }
 ],
 "metadata": {
  "kernelspec": {
   "display_name": "Python 3 (ipykernel)",
   "language": "python",
   "name": "python3"
  },
  "language_info": {
   "codemirror_mode": {
    "name": "ipython",
    "version": 3
   },
   "file_extension": ".py",
   "mimetype": "text/x-python",
   "name": "python",
   "nbconvert_exporter": "python",
   "pygments_lexer": "ipython3",
   "version": "3.10.9"
  }
 },
 "nbformat": 4,
 "nbformat_minor": 5
}
